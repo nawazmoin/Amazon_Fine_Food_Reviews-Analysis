{
 "cells": [
  {
   "cell_type": "markdown",
   "metadata": {},
   "source": [
    "# Applying Logistic Regression on Amazon fine food reviews Dataset"
   ]
  },
  {
   "cell_type": "markdown",
   "metadata": {
    "collapsed": true
   },
   "source": [
    "__Here we will be using Grid search CV for hyperparameter tuning.__"
   ]
  },
  {
   "cell_type": "markdown",
   "metadata": {},
   "source": [
    "<h2>Introduction to the Dataset</h2>\n",
    "\n",
    "\n",
    "Data Source: https://www.kaggle.com/snap/amazon-fine-food-reviews\n",
    "\n",
    "The Amazon Fine Food Reviews dataset consists of reviews of fine foods from Amazon.<br>\n",
    "\n",
    "Number of reviews: 568,454<br>\n",
    "Number of users: 256,059<br>\n",
    "Number of products: 74,258<br>\n",
    "Timespan: Oct 1999 - Oct 2012<br>\n",
    "Number of Attributes/Columns in data: 10 \n",
    "\n",
    "Attribute Information:\n",
    "\n",
    "1. Id\n",
    "2. ProductId - unique identifier for the product\n",
    "3. UserId - unqiue identifier for the user\n",
    "4. ProfileName\n",
    "5. HelpfulnessNumerator - number of users who found the review helpful\n",
    "6. HelpfulnessDenominator - number of users who indicated whether they found the review helpful or not\n",
    "7. Score - rating between 1 and 5\n",
    "8. Time - timestamp for the review\n",
    "9. Summary - brief summary of the review\n",
    "10. Text - text of the review\n",
    "\n",
    "\n",
    "#### Objective:\n",
    "Given a review, determine whether the review is positive (Rating of 4 or 5) or negative (rating of 1 or 2).\n",
    "\n",
    "<br>\n",
    "[Q] How to determine if a review is positive or negative?<br>\n",
    "<br> \n",
    "[Ans] We could use the Score/Rating. A rating of 4 or 5 could be cosnidered a positive review. A review of 1 or 2 could be considered negative. A review of 3 is nuetral and ignored. This is an approximate and proxy way of determining the polarity (positivity/negativity) of a review.\n",
    "\n",
    "\n"
   ]
  },
  {
   "cell_type": "code",
   "execution_count": 1,
   "metadata": {},
   "outputs": [
    {
     "name": "stderr",
     "output_type": "stream",
     "text": [
      "C:\\Users\\Yaakuza\\Anaconda3\\lib\\site-packages\\sklearn\\cross_validation.py:41: DeprecationWarning: This module was deprecated in version 0.18 in favor of the model_selection module into which all the refactored classes and functions are moved. Also note that the interface of the new CV iterators are different from that of this module. This module will be removed in 0.20.\n",
      "  \"This module will be removed in 0.20.\", DeprecationWarning)\n"
     ]
    }
   ],
   "source": [
    "import numpy as np\n",
    "import pandas as pd\n",
    "import matplotlib.pyplot as plt\n",
    "from sklearn.cross_validation import train_test_split\n",
    "from sklearn.neighbors import KNeighborsClassifier\n",
    "from sklearn.metrics import accuracy_score\n",
    "from sklearn.cross_validation import cross_val_score\n",
    "from collections import Counter\n",
    "from sklearn.metrics import accuracy_score\n",
    "from sklearn import cross_validation\n",
    "import sqlite3\n",
    "import pandas as pd\n",
    "import nltk\n",
    "import string\n",
    "from sklearn.feature_extraction.text import TfidfTransformer\n",
    "from sklearn.feature_extraction.text import TfidfVectorizer\n",
    "from sklearn.feature_extraction.text import CountVectorizer\n",
    "from sklearn.metrics import confusion_matrix\n",
    "from sklearn import metrics\n",
    "from sklearn.metrics import roc_curve, auc\n",
    "from nltk.stem.porter import PorterStemmer"
   ]
  },
  {
   "cell_type": "markdown",
   "metadata": {},
   "source": [
    "##### 2. Connecting to Amazon food review dataset"
   ]
  },
  {
   "cell_type": "code",
   "execution_count": 2,
   "metadata": {},
   "outputs": [
    {
     "name": "stdout",
     "output_type": "stream",
     "text": [
      "(525814, 10)\n"
     ]
    },
    {
     "data": {
      "text/html": [
       "<div>\n",
       "<style>\n",
       "    .dataframe thead tr:only-child th {\n",
       "        text-align: right;\n",
       "    }\n",
       "\n",
       "    .dataframe thead th {\n",
       "        text-align: left;\n",
       "    }\n",
       "\n",
       "    .dataframe tbody tr th {\n",
       "        vertical-align: top;\n",
       "    }\n",
       "</style>\n",
       "<table border=\"1\" class=\"dataframe\">\n",
       "  <thead>\n",
       "    <tr style=\"text-align: right;\">\n",
       "      <th></th>\n",
       "      <th>Id</th>\n",
       "      <th>ProductId</th>\n",
       "      <th>UserId</th>\n",
       "      <th>ProfileName</th>\n",
       "      <th>HelpfulnessNumerator</th>\n",
       "      <th>HelpfulnessDenominator</th>\n",
       "      <th>Score</th>\n",
       "      <th>Time</th>\n",
       "      <th>Summary</th>\n",
       "      <th>Text</th>\n",
       "    </tr>\n",
       "  </thead>\n",
       "  <tbody>\n",
       "    <tr>\n",
       "      <th>0</th>\n",
       "      <td>1</td>\n",
       "      <td>B001E4KFG0</td>\n",
       "      <td>A3SGXH7AUHU8GW</td>\n",
       "      <td>delmartian</td>\n",
       "      <td>1</td>\n",
       "      <td>1</td>\n",
       "      <td>positive</td>\n",
       "      <td>1303862400</td>\n",
       "      <td>Good Quality Dog Food</td>\n",
       "      <td>I have bought several of the Vitality canned d...</td>\n",
       "    </tr>\n",
       "    <tr>\n",
       "      <th>1</th>\n",
       "      <td>2</td>\n",
       "      <td>B00813GRG4</td>\n",
       "      <td>A1D87F6ZCVE5NK</td>\n",
       "      <td>dll pa</td>\n",
       "      <td>0</td>\n",
       "      <td>0</td>\n",
       "      <td>negative</td>\n",
       "      <td>1346976000</td>\n",
       "      <td>Not as Advertised</td>\n",
       "      <td>Product arrived labeled as Jumbo Salted Peanut...</td>\n",
       "    </tr>\n",
       "    <tr>\n",
       "      <th>2</th>\n",
       "      <td>3</td>\n",
       "      <td>B000LQOCH0</td>\n",
       "      <td>ABXLMWJIXXAIN</td>\n",
       "      <td>Natalia Corres \"Natalia Corres\"</td>\n",
       "      <td>1</td>\n",
       "      <td>1</td>\n",
       "      <td>positive</td>\n",
       "      <td>1219017600</td>\n",
       "      <td>\"Delight\" says it all</td>\n",
       "      <td>This is a confection that has been around a fe...</td>\n",
       "    </tr>\n",
       "    <tr>\n",
       "      <th>3</th>\n",
       "      <td>4</td>\n",
       "      <td>B000UA0QIQ</td>\n",
       "      <td>A395BORC6FGVXV</td>\n",
       "      <td>Karl</td>\n",
       "      <td>3</td>\n",
       "      <td>3</td>\n",
       "      <td>negative</td>\n",
       "      <td>1307923200</td>\n",
       "      <td>Cough Medicine</td>\n",
       "      <td>If you are looking for the secret ingredient i...</td>\n",
       "    </tr>\n",
       "    <tr>\n",
       "      <th>4</th>\n",
       "      <td>5</td>\n",
       "      <td>B006K2ZZ7K</td>\n",
       "      <td>A1UQRSCLF8GW1T</td>\n",
       "      <td>Michael D. Bigham \"M. Wassir\"</td>\n",
       "      <td>0</td>\n",
       "      <td>0</td>\n",
       "      <td>positive</td>\n",
       "      <td>1350777600</td>\n",
       "      <td>Great taffy</td>\n",
       "      <td>Great taffy at a great price.  There was a wid...</td>\n",
       "    </tr>\n",
       "  </tbody>\n",
       "</table>\n",
       "</div>"
      ],
      "text/plain": [
       "   Id   ProductId          UserId                      ProfileName  \\\n",
       "0   1  B001E4KFG0  A3SGXH7AUHU8GW                       delmartian   \n",
       "1   2  B00813GRG4  A1D87F6ZCVE5NK                           dll pa   \n",
       "2   3  B000LQOCH0   ABXLMWJIXXAIN  Natalia Corres \"Natalia Corres\"   \n",
       "3   4  B000UA0QIQ  A395BORC6FGVXV                             Karl   \n",
       "4   5  B006K2ZZ7K  A1UQRSCLF8GW1T    Michael D. Bigham \"M. Wassir\"   \n",
       "\n",
       "   HelpfulnessNumerator  HelpfulnessDenominator     Score        Time  \\\n",
       "0                     1                       1  positive  1303862400   \n",
       "1                     0                       0  negative  1346976000   \n",
       "2                     1                       1  positive  1219017600   \n",
       "3                     3                       3  negative  1307923200   \n",
       "4                     0                       0  positive  1350777600   \n",
       "\n",
       "                 Summary                                               Text  \n",
       "0  Good Quality Dog Food  I have bought several of the Vitality canned d...  \n",
       "1      Not as Advertised  Product arrived labeled as Jumbo Salted Peanut...  \n",
       "2  \"Delight\" says it all  This is a confection that has been around a fe...  \n",
       "3         Cough Medicine  If you are looking for the secret ingredient i...  \n",
       "4            Great taffy  Great taffy at a great price.  There was a wid...  "
      ]
     },
     "execution_count": 2,
     "metadata": {},
     "output_type": "execute_result"
    }
   ],
   "source": [
    "con=sqlite3.connect('./database.sqlite')\n",
    "filtered_data=pd.read_sql_query(\"\"\"select * from reviews where score!=3\"\"\",con)\n",
    "def partition(x):\n",
    "    if x<3:\n",
    "        return 'negative'\n",
    "    else:\n",
    "        return 'positive'\n",
    "actual_score=filtered_data['Score']\n",
    "PositiveNegative=actual_score.map(partition)\n",
    "filtered_data['Score']=PositiveNegative\n",
    "print(filtered_data.shape)\n",
    "filtered_data.head()\n"
   ]
  },
  {
   "cell_type": "code",
   "execution_count": null,
   "metadata": {
    "collapsed": true
   },
   "outputs": [],
   "source": []
  },
  {
   "cell_type": "markdown",
   "metadata": {},
   "source": [
    "##### 3. Sorting our data on the basis of date and removing the Duplicate reviews"
   ]
  },
  {
   "cell_type": "code",
   "execution_count": 3,
   "metadata": {},
   "outputs": [
    {
     "name": "stdout",
     "output_type": "stream",
     "text": [
      "(364173, 10)\n"
     ]
    }
   ],
   "source": [
    "sorted_data=filtered_data.sort_values('ProductId',axis=0,ascending=True,inplace=False,kind='quicksort',na_position='last')\n",
    "final=sorted_data.drop_duplicates(subset={\"UserId\",\"ProfileName\",\"Time\",\"Text\"},keep='first',inplace=False)\n",
    "print(final.shape)"
   ]
  },
  {
   "cell_type": "markdown",
   "metadata": {},
   "source": [
    "##### 4. we are also removing the rows which has HelpfulnessDenominator greater then HelpfulnessNumerator because its not practically possile "
   ]
  },
  {
   "cell_type": "code",
   "execution_count": 4,
   "metadata": {
    "collapsed": true
   },
   "outputs": [],
   "source": [
    "final=final[final.HelpfulnessNumerator<=final.HelpfulnessDenominator]"
   ]
  },
  {
   "cell_type": "code",
   "execution_count": 5,
   "metadata": {},
   "outputs": [
    {
     "name": "stdout",
     "output_type": "stream",
     "text": [
      "(364171, 10)\n"
     ]
    }
   ],
   "source": [
    "print(final.shape)"
   ]
  },
  {
   "cell_type": "code",
   "execution_count": 6,
   "metadata": {
    "collapsed": true
   },
   "outputs": [],
   "source": [
    "final=final[final.HelpfulnessNumerator<=final.HelpfulnessDenominator]"
   ]
  },
  {
   "cell_type": "markdown",
   "metadata": {},
   "source": [
    "#### we are also cleaning our text of html tags , stop words, and puncuations"
   ]
  },
  {
   "cell_type": "code",
   "execution_count": 7,
   "metadata": {},
   "outputs": [
    {
     "name": "stdout",
     "output_type": "stream",
     "text": [
      "6\n",
      "I set aside at least an hour each day to read to my son (3 y/o). At this point, I consider myself a connoisseur of children's books and this is one of the best. Santa Clause put this under the tree. Since then, we've read it perpetually and he loves it.<br /><br />First, this book taught him the months of the year.<br /><br />Second, it's a pleasure to read. Well suited to 1.5 y/o old to 4+.<br /><br />Very few children's books are worth owning. Most should be borrowed from the library. This book, however, deserves a permanent spot on your shelf. Sendak's best.\n"
     ]
    }
   ],
   "source": [
    "# find sentences containing HTML tags\n",
    "\n",
    "import re\n",
    "i=0;\n",
    "for sent in final['Text'].values:\n",
    "    if (len(re.findall('<.*?>', sent))):\n",
    "        print(i)\n",
    "        print(sent)\n",
    "        break;\n",
    "    i += 1;    \n"
   ]
  },
  {
   "cell_type": "code",
   "execution_count": 8,
   "metadata": {},
   "outputs": [
    {
     "name": "stdout",
     "output_type": "stream",
     "text": [
      "{'being', 'to', 'more', 'this', 'those', \"should've\", 'itself', 'theirs', 'you', 'for', 'am', 'on', 'any', 'both', 'o', 'where', 'that', \"that'll\", 'these', \"couldn't\", 'only', 'but', 'can', 'was', 'he', 'ourselves', 'into', 'above', 'further', 'had', 'by', 'no', 'shouldn', 'some', 'what', 'been', 'against', 'does', 'until', 'during', 'm', \"shouldn't\", 'having', 'himself', 'a', 'there', 'hers', 'she', \"haven't\", \"hadn't\", \"you're\", 'we', \"don't\", 's', \"isn't\", 'd', 'doesn', 'up', 'couldn', 'here', 'ain', \"mightn't\", 'as', 'then', 'very', 'below', 'each', 'why', 'before', 'aren', 'mightn', 'and', 'won', 'doing', 'who', 'yourself', 'the', 'how', 'most', 'hadn', 've', \"shan't\", 'than', \"wasn't\", 'same', 'which', 'after', 'my', 'too', 'weren', \"won't\", 'y', 'about', 'her', \"it's\", \"needn't\", \"she's\", 'has', 'be', 'out', 'them', 'don', 'all', \"hasn't\", \"wouldn't\", 'or', 'an', \"mustn't\", 'themselves', 'now', 'other', 'down', 'yours', 'are', 'through', 'at', 'll', 'its', \"you'll\", 'herself', 'have', 'between', 'shan', 'under', 'off', 'i', 'his', 'once', \"didn't\", 'their', 'our', \"you'd\", 'if', 'yourselves', 'were', 'it', 'wouldn', 'did', 'myself', 'not', 'haven', 'own', 't', 'hasn', 'mustn', 'just', 'will', 'is', 'ours', 'such', 'few', 'nor', 'they', 'whom', 'him', 'needn', 'over', 'didn', 'with', 'do', 're', \"aren't\", 'me', 'your', 'of', 'from', 'ma', \"weren't\", 'while', 'so', 'in', 'should', 'when', \"doesn't\", 'again', 'because', \"you've\", 'isn', 'wasn'}\n",
      "************************************\n",
      "tasti\n"
     ]
    }
   ],
   "source": [
    "import re\n",
    "# Tutorial about Python regular expressions: https://pymotw.com/2/re/\n",
    "import string\n",
    "from nltk.corpus import stopwords\n",
    "from nltk.stem import PorterStemmer\n",
    "from nltk.stem.wordnet import WordNetLemmatizer\n",
    "\n",
    "stop = set(stopwords.words('english')) #set of stopwords\n",
    "sno = nltk.stem.SnowballStemmer('english') #initialising the snowball stemmer\n",
    "\n",
    "def cleanhtml(sentence): #function to clean the word of any html-tags\n",
    "    cleanr = re.compile('<.*?>')\n",
    "    cleantext = re.sub(cleanr, ' ', sentence)\n",
    "    return cleantext\n",
    "def cleanpunc(sentence): #function to clean the word of any punctuation or special characters\n",
    "    cleaned = re.sub(r'[?|!|\\'|\"|#]',r'',sentence)\n",
    "    cleaned = re.sub(r'[.|,|)|(|\\|/]',r' ',cleaned)\n",
    "    return  cleaned\n",
    "print(stop)\n",
    "print('************************************')\n",
    "print(sno.stem('tasty'))"
   ]
  },
  {
   "cell_type": "code",
   "execution_count": 9,
   "metadata": {
    "collapsed": true
   },
   "outputs": [],
   "source": [
    "#Code for implementing step-by-step the checks mentioned in the pre-processing phase\n",
    "# this code takes a while to run as it needs to run on 500k sentences.\n",
    "i=0\n",
    "str1=' '\n",
    "final_string=[]\n",
    "all_positive_words=[] # store words from +ve reviews here\n",
    "all_negative_words=[] # store words from -ve reviews here.\n",
    "s=''\n",
    "for sent in final['Text'].values:\n",
    "    filtered_sentence=[]\n",
    "    #print(sent);\n",
    "    sent=cleanhtml(sent) # remove HTMl tags\n",
    "    for w in sent.split():\n",
    "        for cleaned_words in cleanpunc(w).split():\n",
    "            if((cleaned_words.isalpha()) & (len(cleaned_words)>2)):    \n",
    "                if(cleaned_words.lower() not in stop):\n",
    "                    s=(sno.stem(cleaned_words.lower())).encode('utf8')\n",
    "                    filtered_sentence.append(s)\n",
    "                    if (final['Score'].values)[i] == 'positive': \n",
    "                        all_positive_words.append(s) #list of all words used to describe positive reviews\n",
    "                    if(final['Score'].values)[i] == 'negative':\n",
    "                        all_negative_words.append(s) #list of all words used to describe negative reviews reviews\n",
    "                else:\n",
    "                    continue\n",
    "            else:\n",
    "                continue \n",
    "    #print(filtered_sentence)\n",
    "    str1 = b\" \".join(filtered_sentence) #final string of cleaned words\n",
    "    #print(\"***********************************************************************\")\n",
    "    \n",
    "    final_string.append(str1)\n",
    "    i+=1"
   ]
  },
  {
   "cell_type": "code",
   "execution_count": 10,
   "metadata": {
    "collapsed": true
   },
   "outputs": [],
   "source": [
    "final['CleanedText']=final_string #adding a column of CleanedText which displays the data after pre-processing of the review "
   ]
  },
  {
   "cell_type": "code",
   "execution_count": 11,
   "metadata": {
    "collapsed": true
   },
   "outputs": [],
   "source": [
    "final.head(3) #below the processed review can be seen in the CleanedText Column \n",
    "\n",
    "\n",
    "# store final table into an SQlLite table for future.\n",
    "conn = sqlite3.connect('final.sqlite')\n",
    "c=conn.cursor()\n",
    "conn.text_factory = str\n",
    "final.to_sql('Reviews', conn, flavor=None, schema=None, if_exists='replace', index=True, index_label=None, chunksize=None, dtype=None)"
   ]
  },
  {
   "cell_type": "markdown",
   "metadata": {},
   "source": [
    "##### 6. Here we are Seperating all the review information of user on the basis of their Score i.e positive or negative. \n",
    "Then we are taking 306913 positive and 57087 negative reviews respectively from positive and negative data frame and we are concating them together in one data frame bigdata. We are also taking the scores of these 364000 reviews seperately in s1.\n",
    "We then divide 364000 reviews to train and test data, and we convert the text column of the test and train into BOW. \n"
   ]
  },
  {
   "cell_type": "code",
   "execution_count": 16,
   "metadata": {},
   "outputs": [
    {
     "data": {
      "text/plain": [
       "(364171, 11)"
      ]
     },
     "execution_count": 16,
     "metadata": {},
     "output_type": "execute_result"
    }
   ],
   "source": [
    "final.shape"
   ]
  },
  {
   "cell_type": "code",
   "execution_count": 12,
   "metadata": {
    "collapsed": true
   },
   "outputs": [],
   "source": [
    "total_data=final.sample(364000)"
   ]
  },
  {
   "cell_type": "code",
   "execution_count": 18,
   "metadata": {
    "collapsed": true
   },
   "outputs": [],
   "source": [
    "#Again sorting our data in Ascending order\n",
    "sorted_data=total_data.sort_values('Time',axis=0,ascending=True,inplace=False,kind='quicksort',na_position='last')\n"
   ]
  },
  {
   "cell_type": "code",
   "execution_count": 19,
   "metadata": {},
   "outputs": [
    {
     "data": {
      "text/html": [
       "<div>\n",
       "<style>\n",
       "    .dataframe thead tr:only-child th {\n",
       "        text-align: right;\n",
       "    }\n",
       "\n",
       "    .dataframe thead th {\n",
       "        text-align: left;\n",
       "    }\n",
       "\n",
       "    .dataframe tbody tr th {\n",
       "        vertical-align: top;\n",
       "    }\n",
       "</style>\n",
       "<table border=\"1\" class=\"dataframe\">\n",
       "  <thead>\n",
       "    <tr style=\"text-align: right;\">\n",
       "      <th></th>\n",
       "      <th>Id</th>\n",
       "      <th>ProductId</th>\n",
       "      <th>UserId</th>\n",
       "      <th>ProfileName</th>\n",
       "      <th>HelpfulnessNumerator</th>\n",
       "      <th>HelpfulnessDenominator</th>\n",
       "      <th>Score</th>\n",
       "      <th>Time</th>\n",
       "      <th>Summary</th>\n",
       "      <th>Text</th>\n",
       "      <th>CleanedText</th>\n",
       "    </tr>\n",
       "  </thead>\n",
       "  <tbody>\n",
       "    <tr>\n",
       "      <th>516061</th>\n",
       "      <td>557949</td>\n",
       "      <td>B0000DJDL4</td>\n",
       "      <td>A1Y20KNCR0SZA1</td>\n",
       "      <td>Dessartfamily \"grandmasoven\"</td>\n",
       "      <td>8</td>\n",
       "      <td>9</td>\n",
       "      <td>positive</td>\n",
       "      <td>1072915200</td>\n",
       "      <td>The best Kringles ever</td>\n",
       "      <td>Others try to make kringles but there is only ...</td>\n",
       "      <td>b'other tri make kringl one bakeri make real d...</td>\n",
       "    </tr>\n",
       "    <tr>\n",
       "      <th>152806</th>\n",
       "      <td>165713</td>\n",
       "      <td>B0000D9N59</td>\n",
       "      <td>A3FE2GUBM8JZ3G</td>\n",
       "      <td>TestMagic Inc.</td>\n",
       "      <td>26</td>\n",
       "      <td>31</td>\n",
       "      <td>positive</td>\n",
       "      <td>1073088000</td>\n",
       "      <td>One of the great cheeses of the world</td>\n",
       "      <td>The only real Parmigiano (Reggiano) is one of ...</td>\n",
       "      <td>b'real parmigiano reggiano one great chees wor...</td>\n",
       "    </tr>\n",
       "    <tr>\n",
       "      <th>502441</th>\n",
       "      <td>543222</td>\n",
       "      <td>B0000D17HA</td>\n",
       "      <td>A2B7BUH8834Y6M</td>\n",
       "      <td>Shelley Gammon \"Geek\"</td>\n",
       "      <td>4</td>\n",
       "      <td>4</td>\n",
       "      <td>positive</td>\n",
       "      <td>1073174400</td>\n",
       "      <td>great noodles - sort of</td>\n",
       "      <td>Looking for a way to live up chicken noodle so...</td>\n",
       "      <td>b'look way live chicken noodl soup lieu tini n...</td>\n",
       "    </tr>\n",
       "    <tr>\n",
       "      <th>295398</th>\n",
       "      <td>319992</td>\n",
       "      <td>B0000SX9U0</td>\n",
       "      <td>A2IF5C0I5BH11F</td>\n",
       "      <td>Kala</td>\n",
       "      <td>9</td>\n",
       "      <td>14</td>\n",
       "      <td>positive</td>\n",
       "      <td>1073347200</td>\n",
       "      <td>Surprisingly good shrimp</td>\n",
       "      <td>I wanted to order something from the gourmet f...</td>\n",
       "      <td>b'want order someth gourmet food section besid...</td>\n",
       "    </tr>\n",
       "    <tr>\n",
       "      <th>333925</th>\n",
       "      <td>361312</td>\n",
       "      <td>B00005IX96</td>\n",
       "      <td>ANRV5VWOCM1Q2</td>\n",
       "      <td>M. Harvey</td>\n",
       "      <td>4</td>\n",
       "      <td>4</td>\n",
       "      <td>positive</td>\n",
       "      <td>1073347200</td>\n",
       "      <td>Delicious</td>\n",
       "      <td>We ordered these to go with our new espresso m...</td>\n",
       "      <td>b'order new espresso machin pleas realli shock...</td>\n",
       "    </tr>\n",
       "    <tr>\n",
       "      <th>347600</th>\n",
       "      <td>375994</td>\n",
       "      <td>B0000DBN1H</td>\n",
       "      <td>A281NPSIMI1C2R</td>\n",
       "      <td>Rebecca of Amazon \"The Rebecca Review\"</td>\n",
       "      <td>2</td>\n",
       "      <td>4</td>\n",
       "      <td>positive</td>\n",
       "      <td>1073433600</td>\n",
       "      <td>English Breakfast Style - High Quality Tea</td>\n",
       "      <td>\"There are few hours in life more agreeable th...</td>\n",
       "      <td>b'hour life agreeabl hour dedic ceremoni known...</td>\n",
       "    </tr>\n",
       "    <tr>\n",
       "      <th>347679</th>\n",
       "      <td>376089</td>\n",
       "      <td>B0000DBN1Q</td>\n",
       "      <td>A281NPSIMI1C2R</td>\n",
       "      <td>Rebecca of Amazon \"The Rebecca Review\"</td>\n",
       "      <td>7</td>\n",
       "      <td>7</td>\n",
       "      <td>positive</td>\n",
       "      <td>1073433600</td>\n",
       "      <td>The Mysterious Tazo Tea</td>\n",
       "      <td>\"There is a garden overlooking the Yangtze Riv...</td>\n",
       "      <td>b'garden overlook yangtz river gorg elder man ...</td>\n",
       "    </tr>\n",
       "  </tbody>\n",
       "</table>\n",
       "</div>"
      ],
      "text/plain": [
       "            Id   ProductId          UserId  \\\n",
       "516061  557949  B0000DJDL4  A1Y20KNCR0SZA1   \n",
       "152806  165713  B0000D9N59  A3FE2GUBM8JZ3G   \n",
       "502441  543222  B0000D17HA  A2B7BUH8834Y6M   \n",
       "295398  319992  B0000SX9U0  A2IF5C0I5BH11F   \n",
       "333925  361312  B00005IX96   ANRV5VWOCM1Q2   \n",
       "347600  375994  B0000DBN1H  A281NPSIMI1C2R   \n",
       "347679  376089  B0000DBN1Q  A281NPSIMI1C2R   \n",
       "\n",
       "                                   ProfileName  HelpfulnessNumerator  \\\n",
       "516061            Dessartfamily \"grandmasoven\"                     8   \n",
       "152806                          TestMagic Inc.                    26   \n",
       "502441                   Shelley Gammon \"Geek\"                     4   \n",
       "295398                                    Kala                     9   \n",
       "333925                               M. Harvey                     4   \n",
       "347600  Rebecca of Amazon \"The Rebecca Review\"                     2   \n",
       "347679  Rebecca of Amazon \"The Rebecca Review\"                     7   \n",
       "\n",
       "        HelpfulnessDenominator     Score        Time  \\\n",
       "516061                       9  positive  1072915200   \n",
       "152806                      31  positive  1073088000   \n",
       "502441                       4  positive  1073174400   \n",
       "295398                      14  positive  1073347200   \n",
       "333925                       4  positive  1073347200   \n",
       "347600                       4  positive  1073433600   \n",
       "347679                       7  positive  1073433600   \n",
       "\n",
       "                                           Summary  \\\n",
       "516061                      The best Kringles ever   \n",
       "152806       One of the great cheeses of the world   \n",
       "502441                     great noodles - sort of   \n",
       "295398                    Surprisingly good shrimp   \n",
       "333925                                   Delicious   \n",
       "347600  English Breakfast Style - High Quality Tea   \n",
       "347679                     The Mysterious Tazo Tea   \n",
       "\n",
       "                                                     Text  \\\n",
       "516061  Others try to make kringles but there is only ...   \n",
       "152806  The only real Parmigiano (Reggiano) is one of ...   \n",
       "502441  Looking for a way to live up chicken noodle so...   \n",
       "295398  I wanted to order something from the gourmet f...   \n",
       "333925  We ordered these to go with our new espresso m...   \n",
       "347600  \"There are few hours in life more agreeable th...   \n",
       "347679  \"There is a garden overlooking the Yangtze Riv...   \n",
       "\n",
       "                                              CleanedText  \n",
       "516061  b'other tri make kringl one bakeri make real d...  \n",
       "152806  b'real parmigiano reggiano one great chees wor...  \n",
       "502441  b'look way live chicken noodl soup lieu tini n...  \n",
       "295398  b'want order someth gourmet food section besid...  \n",
       "333925  b'order new espresso machin pleas realli shock...  \n",
       "347600  b'hour life agreeabl hour dedic ceremoni known...  \n",
       "347679  b'garden overlook yangtz river gorg elder man ...  "
      ]
     },
     "execution_count": 19,
     "metadata": {},
     "output_type": "execute_result"
    }
   ],
   "source": [
    "sorted_data[154:161]"
   ]
  },
  {
   "cell_type": "code",
   "execution_count": 21,
   "metadata": {},
   "outputs": [
    {
     "name": "stdout",
     "output_type": "stream",
     "text": [
      "(364000,)\n",
      "138706    positive\n",
      "138683    positive\n",
      "417839    positive\n",
      "346055    positive\n",
      "417838    positive\n",
      "Name: Score, dtype: object\n"
     ]
    }
   ],
   "source": [
    "bigdata=sorted_data\n",
    "s1=bigdata['Score']\n",
    "print(s1.shape)\n",
    "print(s1.head())"
   ]
  },
  {
   "cell_type": "code",
   "execution_count": 97,
   "metadata": {},
   "outputs": [],
   "source": [
    "from sklearn import cross_validation\n",
    "from sklearn.neighbors import KNeighborsClassifier\n",
    "from sklearn.metrics import accuracy_score\n",
    "# split the data set into train and test\n",
    "X_1, X_test, y_1, y_test = cross_validation.train_test_split(bigdata, s1, test_size=0.3, random_state=0,shuffle = False, stratify = None)"
   ]
  },
  {
   "cell_type": "code",
   "execution_count": 103,
   "metadata": {},
   "outputs": [
    {
     "name": "stdout",
     "output_type": "stream",
     "text": [
      "(254800, 95227)\n"
     ]
    }
   ],
   "source": [
    "#BOW for 254800 Train points\n",
    "count_vect = CountVectorizer() #in scikit-learn\n",
    "big_data = count_vect.fit_transform(X_1['Text'].values)\n",
    "print(big_data.shape)\n"
   ]
  },
  {
   "cell_type": "code",
   "execution_count": 104,
   "metadata": {},
   "outputs": [
    {
     "name": "stdout",
     "output_type": "stream",
     "text": [
      "(109200, 95227)\n"
     ]
    }
   ],
   "source": [
    "#BOW for 109200 Test points\n",
    "test_data = count_vect.transform(X_test['Text'].values)\n",
    "print(test_data.shape)"
   ]
  },
  {
   "cell_type": "markdown",
   "metadata": {},
   "source": [
    "##### Standardizing our Train and Test BOW vectors "
   ]
  },
  {
   "cell_type": "code",
   "execution_count": 105,
   "metadata": {},
   "outputs": [
    {
     "name": "stderr",
     "output_type": "stream",
     "text": [
      "C:\\Users\\Yaakuza\\Anaconda3\\lib\\site-packages\\sklearn\\utils\\validation.py:475: DataConversionWarning: Data with input dtype int64 was converted to float64 by StandardScaler.\n",
      "  warnings.warn(msg, DataConversionWarning)\n"
     ]
    },
    {
     "name": "stdout",
     "output_type": "stream",
     "text": [
      "(109200, 95227)\n"
     ]
    }
   ],
   "source": [
    "#from sklearn.preprocessing import StandardScaler\n",
    "from sklearn.preprocessing import StandardScaler\n",
    "standardizedtest_data = StandardScaler(with_mean=False).fit_transform(test_data)\n",
    "print(standardizedtest_data.shape)\n",
    "test_data=standardizedtest_data"
   ]
  },
  {
   "cell_type": "code",
   "execution_count": 106,
   "metadata": {},
   "outputs": [
    {
     "name": "stderr",
     "output_type": "stream",
     "text": [
      "C:\\Users\\Yaakuza\\Anaconda3\\lib\\site-packages\\sklearn\\utils\\validation.py:475: DataConversionWarning: Data with input dtype int64 was converted to float64 by StandardScaler.\n",
      "  warnings.warn(msg, DataConversionWarning)\n"
     ]
    },
    {
     "name": "stdout",
     "output_type": "stream",
     "text": [
      "(254800, 95227)\n"
     ]
    }
   ],
   "source": [
    "#from sklearn.preprocessing import StandardScaler\n",
    "from sklearn.preprocessing import StandardScaler\n",
    "standardized_data = StandardScaler(with_mean=False).fit_transform(big_data)\n",
    "print(standardized_data.shape)"
   ]
  },
  {
   "cell_type": "code",
   "execution_count": 107,
   "metadata": {
    "collapsed": true
   },
   "outputs": [],
   "source": [
    "big_data=standardized_data"
   ]
  },
  {
   "cell_type": "markdown",
   "metadata": {},
   "source": [
    "# Confusion Matrix Function"
   ]
  },
  {
   "cell_type": "code",
   "execution_count": 108,
   "metadata": {
    "collapsed": true
   },
   "outputs": [],
   "source": [
    "import numpy as np\n",
    "\n",
    "\n",
    "def plot_confusion_matrix(cm,\n",
    "                          target_names,\n",
    "                          title='Confusion matrix',\n",
    "                          cmap=None,\n",
    "                          normalize=True):\n",
    "    \"\"\"\n",
    "    given a sklearn confusion matrix (cm), make a nice plot\n",
    "\n",
    "    Arguments\n",
    "    ---------\n",
    "    cm:           confusion matrix from sklearn.metrics.confusion_matrix\n",
    "\n",
    "    target_names: given classification classes such as [0, 1, 2]\n",
    "                  the class names, for example: ['high', 'medium', 'low']\n",
    "\n",
    "    title:        the text to display at the top of the matrix\n",
    "\n",
    "    cmap:         the gradient of the values displayed from matplotlib.pyplot.cm\n",
    "                  see http://matplotlib.org/examples/color/colormaps_reference.html\n",
    "                  plt.get_cmap('jet') or plt.cm.Blues\n",
    "\n",
    "    normalize:    If False, plot the raw numbers\n",
    "                  If True, plot the proportions\n",
    "\n",
    "    Usage\n",
    "    -----\n",
    "    plot_confusion_matrix(cm           = cm,                  # confusion matrix created by\n",
    "                                                              # sklearn.metrics.confusion_matrix\n",
    "                          normalize    = True,                # show proportions\n",
    "                          target_names = y_labels_vals,       # list of names of the classes\n",
    "                          title        = best_estimator_name) # title of graph\n",
    "\n",
    "    Citiation\n",
    "    ---------\n",
    "    http://scikit-learn.org/stable/auto_examples/model_selection/plot_confusion_matrix.html\n",
    "\n",
    "    \"\"\"\n",
    "    import matplotlib.pyplot as plt\n",
    "    import numpy as np\n",
    "    import itertools\n",
    "\n",
    "    accuracy = np.trace(cm) / float(np.sum(cm))\n",
    "    misclass = 1 - accuracy\n",
    "\n",
    "    if cmap is None:\n",
    "        cmap = plt.get_cmap('Blues')\n",
    "\n",
    "    plt.figure(figsize=(8, 6))\n",
    "    plt.imshow(cm, interpolation='nearest', cmap=cmap)\n",
    "    plt.title(title)\n",
    "    plt.colorbar()\n",
    "\n",
    "    if target_names is not None:\n",
    "        tick_marks = np.arange(len(target_names))\n",
    "        plt.xticks(tick_marks, target_names, rotation=45)\n",
    "        plt.yticks(tick_marks, target_names)\n",
    "\n",
    "    if normalize:\n",
    "        cm = cm.astype('float') / cm.sum(axis=1)[:, np.newaxis]\n",
    "\n",
    "\n",
    "    thresh = cm.max() / 1.5 if normalize else cm.max() / 2\n",
    "    for i, j in itertools.product(range(cm.shape[0]), range(cm.shape[1])):\n",
    "        if normalize:\n",
    "            plt.text(j, i, \"{:0.4f}\".format(cm[i, j]),\n",
    "                     horizontalalignment=\"center\",\n",
    "                     color=\"white\" if cm[i, j] > thresh else \"black\")\n",
    "        else:\n",
    "            plt.text(j, i, \"{:,}\".format(cm[i, j]),\n",
    "                     horizontalalignment=\"center\",\n",
    "                     color=\"white\" if cm[i, j] > thresh else \"black\")\n",
    "\n",
    "\n",
    "    plt.tight_layout()\n",
    "    plt.ylabel('True label')\n",
    "    plt.xlabel('Predicted label\\naccuracy={:0.4f}; misclass={:0.4f}'.format(accuracy, misclass))\n",
    "    plt.show()\n"
   ]
  },
  {
   "cell_type": "markdown",
   "metadata": {},
   "source": [
    "#### Using Logistic Regression now"
   ]
  },
  {
   "cell_type": "code",
   "execution_count": 32,
   "metadata": {},
   "outputs": [
    {
     "name": "stderr",
     "output_type": "stream",
     "text": [
      "C:\\Users\\Yaakuza\\Anaconda3\\lib\\site-packages\\sklearn\\grid_search.py:42: DeprecationWarning: This module was deprecated in version 0.18 in favor of the model_selection module into which all the refactored classes and functions are moved. This module will be removed in 0.20.\n",
      "  DeprecationWarning)\n"
     ]
    }
   ],
   "source": [
    "import numpy as np\n",
    "import pandas as pd\n",
    "import matplotlib.pyplot as plt\n",
    "from sklearn.cross_validation import train_test_split\n",
    "from sklearn.neighbors import KNeighborsClassifier\n",
    "from sklearn.metrics import accuracy_score\n",
    "from sklearn.cross_validation import cross_val_score\n",
    "from collections import Counter\n",
    "from sklearn.metrics import accuracy_score\n",
    "from sklearn import cross_validation\n",
    "from sklearn.naive_bayes import MultinomialNB\n",
    "#code source: http://occam.olin.edu/sites/default/files/DataScienceMaterials/machine_learning_lecture_2/Machine%20Learning%20Lecture%202.html\n",
    "from sklearn.model_selection import train_test_split\n",
    "from sklearn.grid_search import GridSearchCV\n",
    "from sklearn.datasets import *\n",
    "from sklearn.linear_model import LogisticRegression"
   ]
  },
  {
   "cell_type": "markdown",
   "metadata": {},
   "source": [
    "# Logistic Regression With CLASS - BALANCING"
   ]
  },
  {
   "cell_type": "code",
   "execution_count": 109,
   "metadata": {},
   "outputs": [
    {
     "data": {
      "text/plain": [
       "GridSearchCV(cv=<generator object TimeSeriesSplit.split at 0x000002158CA3BCA8>,\n",
       "       error_score='raise',\n",
       "       estimator=LogisticRegression(C=1.0, class_weight='balanced', dual=False,\n",
       "          fit_intercept=True, intercept_scaling=1, max_iter=100,\n",
       "          multi_class='ovr', n_jobs=1, penalty='l2', random_state=None,\n",
       "          solver='liblinear', tol=0.0001, verbose=0, warm_start=False),\n",
       "       fit_params=None, iid=True, n_jobs=1,\n",
       "       param_grid=[{'C': [0.01, 1, 3, 4, 5, 6, 100]}],\n",
       "       pre_dispatch='2*n_jobs', refit=True, return_train_score='warn',\n",
       "       scoring='accuracy', verbose=0)"
      ]
     },
     "execution_count": 109,
     "metadata": {},
     "output_type": "execute_result"
    }
   ],
   "source": [
    "#https://stackoverflow.com/questions/46732748/how-do-i-use-a-timeseriessplit-with-a-gridsearchcv-object-to-tune-a-model-in-sciimport xgboost as xgb\n",
    "from sklearn.model_selection import TimeSeriesSplit, GridSearchCV\n",
    "import numpy as np\n",
    "X = big_data\n",
    "y = y_1\n",
    "tscv = TimeSeriesSplit(n_splits=3)\n",
    "\n",
    "model = xgb.XGBRegressor()\n",
    "param_search = [{'C': [10**-2, 10**0, 3, 4, 5, 6 ,10**2]}]\n",
    "\n",
    "my_cv = TimeSeriesSplit(n_splits=3).split(X)\n",
    "gsearch = GridSearchCV(LogisticRegression(class_weight='balanced'), param_search, scoring = 'accuracy', cv=my_cv)\n",
    "gsearch.fit(X, y)"
   ]
  },
  {
   "cell_type": "code",
   "execution_count": 110,
   "metadata": {},
   "outputs": [
    {
     "name": "stdout",
     "output_type": "stream",
     "text": [
      "\n",
      "Test accuracy for best estimator is 88%\n"
     ]
    }
   ],
   "source": [
    "y_pred=gsearch.predict(test_data)\n",
    "acc = accuracy_score(y_test, y_pred, normalize=True) * float(100)\n",
    "print('\\nTest accuracy for best estimator is %d%%' % ( acc))"
   ]
  },
  {
   "cell_type": "markdown",
   "metadata": {},
   "source": [
    "#### Confusion matrix , Precision, Recall, F-Score"
   ]
  },
  {
   "cell_type": "code",
   "execution_count": 113,
   "metadata": {},
   "outputs": [
    {
     "name": "stdout",
     "output_type": "stream",
     "text": [
      "[[14466  4601]\n",
      " [ 7421 82712]]\n",
      "Precision :- 0.9473045250993551\n",
      "Recall    :- 0.9176661156291258\n",
      "F1 Score  :- 0.9473045250993551\n"
     ]
    }
   ],
   "source": [
    "# print the confusion matrix\n",
    "from sklearn.metrics import confusion_matrix\n",
    "from sklearn import metrics\n",
    "gb=metrics.confusion_matrix(y_test,y_pred)\n",
    "print(gb)\n",
    "#plotting the confusion matrix\n",
    "#Plot of Confusion Metric\n",
    "#precision From above Confusion Metric\n",
    "#Recall From above Confusion Metric \n",
    "recall=(gb[1,1]+0.0)/sum(gb[1,:])\n",
    "pre=(gb[1,1]+0.0)/sum(gb[:,1])\n",
    "F1=(2*pre*recall)/(pre+recall)\n",
    "print(\"Precision :-\",pre)\n",
    "print(\"Recall    :-\",recall)\n",
    "print(\"F1 Score  :-\",pre)"
   ]
  },
  {
   "cell_type": "code",
   "execution_count": 114,
   "metadata": {
    "scrolled": true
   },
   "outputs": [
    {
     "data": {
      "image/png": "[encoded data removed]",
      "text/plain": [
       "<matplotlib.figure.Figure at 0x2158522ba58>"
      ]
     },
     "metadata": {},
     "output_type": "display_data"
    }
   ],
   "source": [
    "\n",
    "plot_confusion_matrix(cm           = np.array([[ 14466  ,4601],[7421 ,82712]]), \n",
    "                      normalize    = False,\n",
    "                      target_names = ['negative', 'positive'],\n",
    "                      title        = \"Confusion Matrix\")"
   ]
  },
  {
   "cell_type": "markdown",
   "metadata": {},
   "source": [
    "# Logistic Regression L2 without Class balancing"
   ]
  },
  {
   "cell_type": "code",
   "execution_count": 115,
   "metadata": {},
   "outputs": [
    {
     "data": {
      "text/plain": [
       "GridSearchCV(cv=<generator object TimeSeriesSplit.split at 0x000002156A24D360>,\n",
       "       error_score='raise',\n",
       "       estimator=LogisticRegression(C=1.0, class_weight=None, dual=False, fit_intercept=True,\n",
       "          intercept_scaling=1, max_iter=100, multi_class='ovr', n_jobs=1,\n",
       "          penalty='l2', random_state=None, solver='liblinear', tol=0.0001,\n",
       "          verbose=0, warm_start=False),\n",
       "       fit_params=None, iid=True, n_jobs=1,\n",
       "       param_grid=[{'C': [0.01, 1, 3, 4, 5, 6, 100]}],\n",
       "       pre_dispatch='2*n_jobs', refit=True, return_train_score='warn',\n",
       "       scoring='accuracy', verbose=0)"
      ]
     },
     "execution_count": 115,
     "metadata": {},
     "output_type": "execute_result"
    }
   ],
   "source": [
    "#https://stackoverflow.com/questions/46732748/how-do-i-use-a-timeseriessplit-with-a-gridsearchcv-object-to-tune-a-model-in-sciimport xgboost as xgb\n",
    "from sklearn.model_selection import TimeSeriesSplit, GridSearchCV\n",
    "import numpy as np\n",
    "X = big_data\n",
    "y = y_1\n",
    "tscv = TimeSeriesSplit(n_splits=3)\n",
    "Cs = [10**-4, 10**-2, 10**0, 10**2, 10**4]\n",
    "model = xgb.XGBRegressor()\n",
    "param_search = [{'C': [10**-2, 10**0, 3, 4, 5, 6 ,10**2]}]\n",
    "\n",
    "my_cv = TimeSeriesSplit(n_splits=3).split(X)\n",
    "gsearch = GridSearchCV(LogisticRegression(), param_search, scoring = 'accuracy', cv=my_cv)\n",
    "gsearch.fit(X, y)"
   ]
  },
  {
   "cell_type": "code",
   "execution_count": 116,
   "metadata": {},
   "outputs": [
    {
     "name": "stdout",
     "output_type": "stream",
     "text": [
      "\n",
      "Test accuracy for best estimator is 90%\n"
     ]
    }
   ],
   "source": [
    "y_pred=gsearch.predict(test_data)\n",
    "acc = accuracy_score(y_test, y_pred, normalize=True) * float(100)\n",
    "print('\\nTest accuracy for best estimator is %d%%' % ( acc))"
   ]
  },
  {
   "cell_type": "code",
   "execution_count": 117,
   "metadata": {},
   "outputs": [
    {
     "name": "stdout",
     "output_type": "stream",
     "text": [
      "[[13111  5956]\n",
      " [ 4140 85993]]\n",
      "Precision :- 0.9352249616635309\n",
      "Recall    :- 0.954067877469961\n",
      "F1 Score  :- 0.9352249616635309\n"
     ]
    }
   ],
   "source": [
    "gb=metrics.confusion_matrix(y_test,y_pred)\n",
    "print(gb)\n",
    "#plotting the confusion matrix\n",
    "#Plot of Confusion Metric\n",
    "#precision From above Confusion Metric\n",
    "#Recall From above Confusion Metric \n",
    "recall=(gb[1,1]+0.0)/sum(gb[1,:])\n",
    "pre=(gb[1,1]+0.0)/sum(gb[:,1])\n",
    "F1=(2*pre*recall)/(pre+recall)\n",
    "print(\"Precision :-\",pre)\n",
    "print(\"Recall    :-\",recall)\n",
    "print(\"F1 Score  :-\",pre)"
   ]
  },
  {
   "cell_type": "code",
   "execution_count": 118,
   "metadata": {},
   "outputs": [
    {
     "data": {
      "image/png": "[encoded data removed]",
      "text/plain": [
       "<matplotlib.figure.Figure at 0x215903ba860>"
      ]
     },
     "metadata": {},
     "output_type": "display_data"
    }
   ],
   "source": [
    "plot_confusion_matrix(cm           = np.array([[ 13111   ,5956],[4140  ,85993]]), \n",
    "                      normalize    = False,\n",
    "                      target_names = ['negative', 'positive'],\n",
    "                      title        = \"Confusion Matrix\")"
   ]
  },
  {
   "cell_type": "markdown",
   "metadata": {},
   "source": [
    "__Misclassification error__"
   ]
  },
  {
   "cell_type": "code",
   "execution_count": 128,
   "metadata": {},
   "outputs": [
    {
     "name": "stderr",
     "output_type": "stream",
     "text": [
      "C:\\Users\\Yaakuza\\Anaconda3\\lib\\site-packages\\sklearn\\model_selection\\_search.py:762: DeprecationWarning: The grid_scores_ attribute was deprecated in version 0.18 in favor of the more elaborate cv_results_ attribute. The grid_scores_ attribute will not be available from 0.20\n",
      "  DeprecationWarning)\n"
     ]
    },
    {
     "data": {
      "image/png": "[encoded data removed]",
      "text/plain": [
       "<matplotlib.figure.Figure at 0x2158a1d3710>"
      ]
     },
     "metadata": {},
     "output_type": "display_data"
    }
   ],
   "source": [
    "\n",
    "Cs = [10**-2, 10**0, 3, 4, 5, 6 ,10**2]\n",
    "scores = [x[1] for x in gsearch.grid_scores_]\n",
    "scores = np.array(scores).reshape(len(Cs))\n",
    "plt.figure(figsize=(20,6))\n",
    "plt.plot(Cs, scores, label='C: ' )\n",
    "\n",
    "for xy in zip(Cs, np.round(scores,3)):\n",
    "    plt.annotate('(%s, %s)' % xy, xy=xy, textcoords='data')\n",
    "\n",
    "plt.xlabel('Different C values')\n",
    "plt.ylabel('Scores')\n",
    "plt.show()\n",
    "   "
   ]
  },
  {
   "cell_type": "markdown",
   "metadata": {},
   "source": [
    "__Now using L1 Regulariser in Logistic Regrression with class balancing__"
   ]
  },
  {
   "cell_type": "code",
   "execution_count": 129,
   "metadata": {},
   "outputs": [
    {
     "data": {
      "text/plain": [
       "GridSearchCV(cv=<generator object TimeSeriesSplit.split at 0x000002156A24DD00>,\n",
       "       error_score='raise',\n",
       "       estimator=LogisticRegression(C=1.0, class_weight='balanced', dual=False,\n",
       "          fit_intercept=True, intercept_scaling=1, max_iter=100,\n",
       "          multi_class='ovr', n_jobs=1, penalty='l1', random_state=None,\n",
       "          solver='liblinear', tol=0.0001, verbose=0, warm_start=False),\n",
       "       fit_params=None, iid=True, n_jobs=1,\n",
       "       param_grid=[{'C': [0.01, 1, 3, 4, 5, 6, 100]}],\n",
       "       pre_dispatch='2*n_jobs', refit=True, return_train_score='warn',\n",
       "       scoring='accuracy', verbose=0)"
      ]
     },
     "execution_count": 129,
     "metadata": {},
     "output_type": "execute_result"
    }
   ],
   "source": [
    "#https://stackoverflow.com/questions/46732748/how-do-i-use-a-timeseriessplit-with-a-gridsearchcv-object-to-tune-a-model-in-sciimport xgboost as xgb\n",
    "from sklearn.model_selection import TimeSeriesSplit, GridSearchCV\n",
    "import numpy as np\n",
    "X = big_data\n",
    "y = y_1\n",
    "tscv = TimeSeriesSplit(n_splits=3)\n",
    "\n",
    "model = xgb.XGBRegressor()\n",
    "param_search = [{'C': [10**-2, 10**0, 3, 4, 5, 6 ,10**2]}]\n",
    "\n",
    "my_cv = TimeSeriesSplit(n_splits=3).split(X)\n",
    "gsearch = GridSearchCV(LogisticRegression(class_weight='balanced',penalty='l1'), param_search, scoring = 'accuracy', cv=my_cv)\n",
    "gsearch.fit(X, y)"
   ]
  },
  {
   "cell_type": "code",
   "execution_count": 131,
   "metadata": {},
   "outputs": [
    {
     "name": "stdout",
     "output_type": "stream",
     "text": [
      "\n",
      "Test accuracy for best estimator is 91%\n"
     ]
    }
   ],
   "source": [
    "y_pred=gsearch.predict(test_data)\n",
    "acc = accuracy_score(y_test, y_pred, normalize=True) * float(100)\n",
    "print('\\nTest accuracy for best estimator is %d%%' % ( acc))\n"
   ]
  },
  {
   "cell_type": "code",
   "execution_count": 132,
   "metadata": {},
   "outputs": [
    {
     "name": "stdout",
     "output_type": "stream",
     "text": [
      "[[16298  2769]\n",
      " [ 6968 83165]]\n",
      "Precision :- 0.9677775967603044\n",
      "Recall    :- 0.9226920217900214\n",
      "F1 Score  :- 0.9677775967603044\n"
     ]
    }
   ],
   "source": [
    "gb=metrics.confusion_matrix(y_test,y_pred)\n",
    "print(gb)\n",
    "recall=(gb[1,1]+0.0)/sum(gb[1,:])\n",
    "pre=(gb[1,1]+0.0)/sum(gb[:,1])\n",
    "F1=(2*pre*recall)/(pre+recall)\n",
    "print(\"Precision :-\",pre)\n",
    "print(\"Recall    :-\",recall)\n",
    "print(\"F1 Score  :-\",pre)"
   ]
  },
  {
   "cell_type": "code",
   "execution_count": 133,
   "metadata": {},
   "outputs": [
    {
     "data": {
      "image/png": "[encoded data removed]",
      "text/plain": [
       "<matplotlib.figure.Figure at 0x2158a13b550>"
      ]
     },
     "metadata": {},
     "output_type": "display_data"
    }
   ],
   "source": [
    "plot_confusion_matrix(cm           = np.array([[ 16298  ,2769],[6968  ,83165]]), \n",
    "                      normalize    = False,\n",
    "                      target_names = ['negative', 'positive'],\n",
    "                      title        = \"Confusion Matrix\")"
   ]
  },
  {
   "cell_type": "markdown",
   "metadata": {},
   "source": [
    "__Now using L1 Regulariser in Logistic Regrression without class balancing__"
   ]
  },
  {
   "cell_type": "code",
   "execution_count": 134,
   "metadata": {},
   "outputs": [
    {
     "data": {
      "text/plain": [
       "GridSearchCV(cv=<generator object TimeSeriesSplit.split at 0x000002158CA4A200>,\n",
       "       error_score='raise',\n",
       "       estimator=LogisticRegression(C=1.0, class_weight=None, dual=False, fit_intercept=True,\n",
       "          intercept_scaling=1, max_iter=100, multi_class='ovr', n_jobs=1,\n",
       "          penalty='l1', random_state=None, solver='liblinear', tol=0.0001,\n",
       "          verbose=0, warm_start=False),\n",
       "       fit_params=None, iid=True, n_jobs=1,\n",
       "       param_grid=[{'C': [0.01, 1, 3, 4, 5, 6, 100]}],\n",
       "       pre_dispatch='2*n_jobs', refit=True, return_train_score='warn',\n",
       "       scoring='accuracy', verbose=0)"
      ]
     },
     "execution_count": 134,
     "metadata": {},
     "output_type": "execute_result"
    }
   ],
   "source": [
    "#https://stackoverflow.com/questions/46732748/how-do-i-use-a-timeseriessplit-with-a-gridsearchcv-object-to-tune-a-model-in-sciimport xgboost as xgb\n",
    "from sklearn.model_selection import TimeSeriesSplit, GridSearchCV\n",
    "import numpy as np\n",
    "X = big_data\n",
    "y = y_1\n",
    "tscv = TimeSeriesSplit(n_splits=3)\n",
    "\n",
    "model = xgb.XGBRegressor()\n",
    "param_search = [{'C':[10**-2, 10**0, 3, 4, 5, 6 ,10**2]}]\n",
    "\n",
    "my_cv = TimeSeriesSplit(n_splits=3).split(X)\n",
    "gsearch = GridSearchCV(LogisticRegression(penalty='l1'), param_search, scoring = 'accuracy', cv=my_cv)\n",
    "gsearch.fit(X, y)"
   ]
  },
  {
   "cell_type": "code",
   "execution_count": 135,
   "metadata": {},
   "outputs": [
    {
     "name": "stdout",
     "output_type": "stream",
     "text": [
      "\n",
      "Test accuracy for best estimator is 92%\n"
     ]
    }
   ],
   "source": [
    "y_pred=gsearch.predict(test_data)\n",
    "acc = accuracy_score(y_test, y_pred, normalize=True) * float(100)\n",
    "print('\\nTest accuracy for best estimator is %d%%' % ( acc))\n"
   ]
  },
  {
   "cell_type": "code",
   "execution_count": 138,
   "metadata": {},
   "outputs": [
    {
     "name": "stdout",
     "output_type": "stream",
     "text": [
      "[[12720  6347]\n",
      " [ 2214 87919]]\n",
      "Precision :- 0.9326692550866696\n",
      "Recall    :- 0.9754362996904574\n",
      "F1 Score  :- 0.9326692550866696\n"
     ]
    }
   ],
   "source": [
    "gb=metrics.confusion_matrix(y_test,y_pred)\n",
    "print(gb)\n",
    "#plotting the confusion matrix\n",
    "#Plot of Confusion Metric\n",
    "#precision From above Confusion Metric\n",
    "#Recall From above Confusion Metric \n",
    "recall=(gb[1,1]+0.0)/sum(gb[1,:])\n",
    "pre=(gb[1,1]+0.0)/sum(gb[:,1])\n",
    "F1=(2*pre*recall)/(pre+recall)\n",
    "print(\"Precision :-\",pre)\n",
    "print(\"Recall    :-\",recall)\n",
    "print(\"F1 Score  :-\",pre)"
   ]
  },
  {
   "cell_type": "code",
   "execution_count": 137,
   "metadata": {},
   "outputs": [
    {
     "data": {
      "image/png": "[encoded data removed]",
      "text/plain": [
       "<matplotlib.figure.Figure at 0x215851b72b0>"
      ]
     },
     "metadata": {},
     "output_type": "display_data"
    }
   ],
   "source": [
    "plot_confusion_matrix(cm           = np.array([[ 12720   ,6347],[2214   ,87919]]), \n",
    "                      normalize    = False,\n",
    "                      target_names = ['negative', 'positive'],\n",
    "                      title        = \"Confusion Matrix\")"
   ]
  },
  {
   "cell_type": "markdown",
   "metadata": {},
   "source": [
    "__ Finding Sparsity of W vector for increasing values of C (Decreasing values of Lambda)__"
   ]
  },
  {
   "cell_type": "code",
   "execution_count": 139,
   "metadata": {},
   "outputs": [
    {
     "name": "stdout",
     "output_type": "stream",
     "text": [
      "C=0.01\n",
      "Sparsity with L1 penalty: 83.42%\n",
      "---------------------------------------------------------------\n",
      "C=0.05\n",
      "Sparsity with L1 penalty: 68.73%\n",
      "---------------------------------------------------------------\n",
      "C=0.08\n",
      "Sparsity with L1 penalty: 65.77%\n",
      "---------------------------------------------------------------\n",
      "C=1.20\n",
      "Sparsity with L1 penalty: 4.86%\n",
      "---------------------------------------------------------------\n",
      "C=2.00\n",
      "Sparsity with L1 penalty: 3.26%\n",
      "---------------------------------------------------------------\n",
      "C=10.00\n",
      "Sparsity with L1 penalty: 10.95%\n",
      "---------------------------------------------------------------\n",
      "C=20.00\n",
      "Sparsity with L1 penalty: 48.23%\n",
      "---------------------------------------------------------------\n",
      "C=30.00\n",
      "Sparsity with L1 penalty: 25.11%\n",
      "---------------------------------------------------------------\n",
      "C=40.00\n",
      "Sparsity with L1 penalty: 2.78%\n",
      "---------------------------------------------------------------\n",
      "C=70.00\n",
      "Sparsity with L1 penalty: 45.15%\n",
      "---------------------------------------------------------------\n",
      "C=150.00\n",
      "Sparsity with L1 penalty: 0.01%\n",
      "---------------------------------------------------------------\n"
     ]
    }
   ],
   "source": [
    "#http://scikit-learn.org/stable/auto_examples/linear_model/plot_logistic_l1_l2_sparsity.html\n",
    "l1_list=[0.01,0.05,0.08,1.2,2.0,10,20,30,40,70,150]\n",
    "for item in l1_list:\n",
    "    clf = LogisticRegression(random_state=0,penalty='l1',C=item).fit(big_data, y_1)\n",
    "    #model = GridSearchCV(LogisticRegression(penalty='l1',C=item), tuned_parameters, scoring = 'accuracy', cv=5)\n",
    "    #model.fit(big_data, y_1)\n",
    "    coef = clf.coef_.ravel()\n",
    "    sparsity_l1_LR = np.mean(coef == 0) * 100\n",
    "    print(\"C=%.2f\" % item)\n",
    "    print(\"Sparsity with L1 penalty: %.2f%%\" % sparsity_l1_LR)\n",
    "    print('---------------------------------------------------------------')"
   ]
  },
  {
   "cell_type": "markdown",
   "metadata": {},
   "source": [
    "__As we can see with different values of C i.e inverse of Lambda the sparsity of w* vector is changing.__\n",
    "1. as C increases (lambda decreases) the sparsity decreases. i.e as lambda increases the sparsity also increases\n",
    "2. this proves the fact that in L1 regurarization when lambda increases the sparsity also increases "
   ]
  },
  {
   "cell_type": "markdown",
   "metadata": {},
   "source": [
    "##### We are printing the top words which have the highest probablity in  positive and negative reviews."
   ]
  },
  {
   "cell_type": "code",
   "execution_count": 141,
   "metadata": {
    "collapsed": true
   },
   "outputs": [],
   "source": [
    "clf = LogisticRegression(C=5).fit(big_data, y_1)\n",
    "clf.predict(test_data)\n",
    "wv=clf.coef_\n",
    "abs_weights = np.abs(wv)"
   ]
  },
  {
   "cell_type": "code",
   "execution_count": 142,
   "metadata": {},
   "outputs": [
    {
     "data": {
      "text/plain": [
       "array([[-0.03763285,  0.0424076 ,  0.06205551, ...,  0.00851973,\n",
       "         0.01122439,  0.00209671]])"
      ]
     },
     "execution_count": 142,
     "metadata": {},
     "output_type": "execute_result"
    }
   ],
   "source": [
    "sorted(wv)\n",
    "\n",
    "hm=wv[-1:]\n",
    "hm"
   ]
  },
  {
   "cell_type": "code",
   "execution_count": 147,
   "metadata": {},
   "outputs": [
    {
     "name": "stdout",
     "output_type": "stream",
     "text": [
      "\t\t\tNEGATIVE\t\t\t\t\t\tPOSITIVE\n",
      "________________________________________________________________________________________________\n",
      "\t-0.9690\tnot            \t\t\t\t1.1551\tgreat          \n",
      "\t-0.4221\tworst          \t\t\t\t0.9005\tbest           \n",
      "\t-0.3282\tterrible       \t\t\t\t0.7989\tdelicious      \n",
      "\t-0.3080\tawful          \t\t\t\t0.7150\tgood           \n",
      "\t-0.3035\thorrible       \t\t\t\t0.6766\tperfect        \n",
      "\t-0.2932\tdisappointed   \t\t\t\t0.6101\tlove           \n",
      "\t-0.2779\ttaste          \t\t\t\t0.5686\texcellent      \n",
      "\t-0.2492\tmimalist       \t\t\t\t0.4906\tnice           \n",
      "\t-0.2492\troccoco        \t\t\t\t0.4859\thighly         \n",
      "\t-0.2491\tunfortunately  \t\t\t\t0.4373\tloves          \n",
      "\t-0.2485\tthrew          \t\t\t\t0.4280\twonderful      \n",
      "\t-0.2466\tdon            \t\t\t\t0.4167\ttasty          \n",
      "\t-0.2420\tdidn           \t\t\t\t0.3986\tawesome        \n",
      "\t-0.2416\tworse          \t\t\t\t0.3948\tsmooth         \n",
      "\t-0.2390\tdisappointing  \t\t\t\t0.3789\tfavorite       \n",
      "\t-0.2386\teven           \t\t\t\t0.3718\teasy           \n",
      "\t-0.2385\twas            \t\t\t\t0.3705\tamazing        \n",
      "\t-0.2345\tnothing        \t\t\t\t0.3565\tpleased        \n",
      "\t-0.2339\tstale          \t\t\t\t0.3497\tpleasantly     \n",
      "\t-0.2299\tdisappointment \t\t\t\t0.3277\thappy          \n",
      "\t-0.2269\tearth          \t\t\t\t0.3254\tyummy          \n",
      "\t-0.2175\twouldn         \t\t\t\t0.3250\thooked         \n",
      "\t-0.2122\tmoney          \t\t\t\t0.3059\tglad           \n",
      "\t-0.2119\twaste          \t\t\t\t0.2967\tyum            \n",
      "\t-0.2103\tto             \t\t\t\t0.2930\tfind           \n"
     ]
    }
   ],
   "source": [
    "def show_most_informative_features(vectorizer, clf, n=25):\n",
    "    feature_names = vectorizer.get_feature_names()\n",
    "    coefs_with_fns = sorted(zip(clf.coef_[0], feature_names))\n",
    "    top = zip(coefs_with_fns[:n], coefs_with_fns[:-(n + 1):-1])\n",
    "    print(\"\\t\\t\\tNEGATIVE\\t\\t\\t\\t\\t\\tPOSITIVE\")\n",
    "    print(\"________________________________________________________________________________________________\")\n",
    "    for (coef_1, fn_1), (coef_2, fn_2) in top:\n",
    "        print(\"\\t%.4f\\t%-15s\\t\\t\\t\\t%.4f\\t%-15s\" % (coef_1, fn_1, coef_2, fn_2))\n",
    "        \n",
    "show_most_informative_features(count_vect,clf)\n",
    "#Code Reference:https://stackoverflow.com/questions/11116697/how-to-get-most-informative-features-for-scikit-learn-classifiers"
   ]
  },
  {
   "cell_type": "markdown",
   "metadata": {},
   "source": [
    "## Perturbation Test"
   ]
  },
  {
   "cell_type": "code",
   "execution_count": 163,
   "metadata": {},
   "outputs": [
    {
     "name": "stdout",
     "output_type": "stream",
     "text": [
      "Accuracy on test set: 90.031%\n",
      "Non Zero weights: 95227\n"
     ]
    }
   ],
   "source": [
    "from sklearn.linear_model import LogisticRegression\n",
    "\n",
    "clf = LogisticRegression(C= 8, penalty= 'l2')\n",
    "clf.fit(big_data,y_1)\n",
    "y_pred = clf.predict(test_data)\n",
    "print(\"Accuracy on test set: %0.3f%%\"%(accuracy_score(y_test, y_pred)*100))\n",
    "print(\"Non Zero weights:\",np.count_nonzero(clf.coef_))"
   ]
  },
  {
   "cell_type": "code",
   "execution_count": 172,
   "metadata": {},
   "outputs": [],
   "source": [
    "from scipy.sparse import find\n",
    "#Weights before adding random noise\n",
    "w1 = find(clf.coef_[0])[2]\n"
   ]
  },
  {
   "cell_type": "code",
   "execution_count": 173,
   "metadata": {},
   "outputs": [],
   "source": [
    "from scipy.sparse import find\n",
    "\n",
    "#epsilon = np.random.normal(loc=0.0, scale=0.00000001)\n",
    "epsilon = np.random.uniform(low=-0.0001, high=0.0001, size=(find(X_train_t)[0].size,))\n",
    "new_data = big_data.copy()\n",
    "#Random noise\n",
    "#Getting the postions(row and column) and value of non-zero datapoints \n",
    "a,b,c = find(new_data)\n",
    "\n",
    "#Introducing random noise to non-zero datapoints\n",
    "new_data[a,b] = epsilon + new_data[a,b] "
   ]
  },
  {
   "cell_type": "code",
   "execution_count": 174,
   "metadata": {},
   "outputs": [
    {
     "name": "stdout",
     "output_type": "stream",
     "text": [
      "Accuracy on test set: 90.501%\n",
      "Non Zero weights: 95227\n"
     ]
    }
   ],
   "source": [
    "#Training on train data having random noise\n",
    "from sklearn.linear_model import LogisticRegression\n",
    "\n",
    "clf = LogisticRegression(C= 9, penalty= 'l2')\n",
    "clf.fit(new_data,y_1)\n",
    "y_pred = clf.predict(test_data)\n",
    "print(\"Accuracy on test set: %0.3f%%\"%(accuracy_score(y_test, y_pred)*100))\n",
    "print(\"Non Zero weights:\",np.count_nonzero(clf.coef_))"
   ]
  },
  {
   "cell_type": "code",
   "execution_count": 175,
   "metadata": {},
   "outputs": [
    {
     "data": {
      "text/plain": [
       "(95227,)"
      ]
     },
     "execution_count": 175,
     "metadata": {},
     "output_type": "execute_result"
    }
   ],
   "source": [
    "w2.shape"
   ]
  },
  {
   "cell_type": "code",
   "execution_count": 176,
   "metadata": {},
   "outputs": [
    {
     "data": {
      "text/plain": [
       "(95227,)"
      ]
     },
     "execution_count": 176,
     "metadata": {},
     "output_type": "execute_result"
    }
   ],
   "source": [
    "w1.shape"
   ]
  },
  {
   "cell_type": "code",
   "execution_count": 177,
   "metadata": {},
   "outputs": [],
   "source": [
    "#Weights after adding random noise\n",
    "w2 = find(clf.coef_[0])[2]\n"
   ]
  },
  {
   "cell_type": "code",
   "execution_count": 178,
   "metadata": {},
   "outputs": [],
   "source": [
    "diff = (abs(w1 - w2)/w1) * 100"
   ]
  },
  {
   "cell_type": "code",
   "execution_count": 179,
   "metadata": {},
   "outputs": [
    {
     "name": "stdout",
     "output_type": "stream",
     "text": [
      "19475\n"
     ]
    }
   ],
   "source": [
    "print(diff[np.where(diff > 30)].size)"
   ]
  },
  {
   "cell_type": "markdown",
   "metadata": {},
   "source": [
    "__\"\"We have 19475 feature whose weight changed more then 30 percent\"\"__"
   ]
  },
  {
   "cell_type": "code",
   "execution_count": 181,
   "metadata": {},
   "outputs": [
    {
     "name": "stdout",
     "output_type": "stream",
     "text": [
      "Euclidean distance between two vectors is:- 3.3933380398798656\n",
      "Cosine similarity between two vectors is:- 0.9640771628150064\n"
     ]
    }
   ],
   "source": [
    "from scipy.spatial import distance\n",
    "from scipy import spatial\n",
    "dst = distance.euclidean(w1, w2)\n",
    "result = 1 - spatial.distance.cosine(w1,w2)\n",
    "print(\"Euclidean distance between two vectors is:-\",dst)\n",
    "print(\"Cosine similarity between two vectors is:-\",result)"
   ]
  },
  {
   "cell_type": "markdown",
   "metadata": {},
   "source": [
    "### Now Computing Using Tf-Idf Features"
   ]
  },
  {
   "cell_type": "code",
   "execution_count": 183,
   "metadata": {},
   "outputs": [
    {
     "name": "stdout",
     "output_type": "stream",
     "text": [
      "(254800, 2301100)\n"
     ]
    }
   ],
   "source": [
    "#Tf-IDF for 254800 Train points\n",
    "tf_idf_vect = TfidfVectorizer(ngram_range=(1,2))\n",
    "big_data = tf_idf_vect.fit_transform(X_1['Text'].values)\n",
    "print(big_data.shape)\n"
   ]
  },
  {
   "cell_type": "code",
   "execution_count": 184,
   "metadata": {},
   "outputs": [
    {
     "name": "stdout",
     "output_type": "stream",
     "text": [
      "(109200, 2301100)\n"
     ]
    }
   ],
   "source": [
    "#Tf-Idf for 109200 Test points\n",
    "test_data = tf_idf_vect.transform(X_test['Text'].values)\n",
    "print(test_data.shape)"
   ]
  },
  {
   "cell_type": "markdown",
   "metadata": {},
   "source": [
    "##### Standardizing our Train and Test BOW vectors "
   ]
  },
  {
   "cell_type": "code",
   "execution_count": 185,
   "metadata": {},
   "outputs": [
    {
     "name": "stdout",
     "output_type": "stream",
     "text": [
      "(109200, 2301100)\n"
     ]
    }
   ],
   "source": [
    "#from sklearn.preprocessing import StandardScaler\n",
    "from sklearn.preprocessing import StandardScaler\n",
    "standardizedtest_data = StandardScaler(with_mean=False).fit_transform(test_data)\n",
    "print(standardizedtest_data.shape)\n",
    "test_data=standardizedtest_data"
   ]
  },
  {
   "cell_type": "code",
   "execution_count": 186,
   "metadata": {},
   "outputs": [
    {
     "name": "stdout",
     "output_type": "stream",
     "text": [
      "(254800, 2301100)\n"
     ]
    }
   ],
   "source": [
    "#from sklearn.preprocessing import StandardScaler\n",
    "from sklearn.preprocessing import StandardScaler\n",
    "standardized_data = StandardScaler(with_mean=False).fit_transform(big_data)\n",
    "print(standardized_data.shape)"
   ]
  },
  {
   "cell_type": "code",
   "execution_count": 187,
   "metadata": {
    "collapsed": true
   },
   "outputs": [],
   "source": [
    "big_data=standardized_data"
   ]
  },
  {
   "cell_type": "markdown",
   "metadata": {},
   "source": [
    "# Logistic Regression With CLASS - BALANCING"
   ]
  },
  {
   "cell_type": "code",
   "execution_count": 188,
   "metadata": {},
   "outputs": [
    {
     "data": {
      "text/plain": [
       "GridSearchCV(cv=<generator object TimeSeriesSplit.split at 0x00000215BC1D3F68>,\n",
       "       error_score='raise',\n",
       "       estimator=LogisticRegression(C=1.0, class_weight='balanced', dual=False,\n",
       "          fit_intercept=True, intercept_scaling=1, max_iter=100,\n",
       "          multi_class='ovr', n_jobs=1, penalty='l2', random_state=None,\n",
       "          solver='liblinear', tol=0.0001, verbose=0, warm_start=False),\n",
       "       fit_params=None, iid=True, n_jobs=1,\n",
       "       param_grid=[{'C': [0.01, 1, 3, 4, 5, 6, 100]}],\n",
       "       pre_dispatch='2*n_jobs', refit=True, return_train_score='warn',\n",
       "       scoring='accuracy', verbose=0)"
      ]
     },
     "execution_count": 188,
     "metadata": {},
     "output_type": "execute_result"
    }
   ],
   "source": [
    "#https://stackoverflow.com/questions/46732748/how-do-i-use-a-timeseriessplit-with-a-gridsearchcv-object-to-tune-a-model-in-sciimport xgboost as xgb\n",
    "from sklearn.model_selection import TimeSeriesSplit, GridSearchCV\n",
    "import numpy as np\n",
    "X = big_data\n",
    "y = y_1\n",
    "tscv = TimeSeriesSplit(n_splits=3)\n",
    "\n",
    "model = xgb.XGBRegressor()\n",
    "param_search = [{'C': [10**-2, 10**0, 3, 4, 5, 6 ,10**2]}]\n",
    "\n",
    "my_cv = TimeSeriesSplit(n_splits=3).split(X)\n",
    "gsearch = GridSearchCV(LogisticRegression(class_weight='balanced'), param_search, scoring = 'accuracy', cv=my_cv)\n",
    "gsearch.fit(X, y)"
   ]
  },
  {
   "cell_type": "code",
   "execution_count": 189,
   "metadata": {},
   "outputs": [
    {
     "name": "stdout",
     "output_type": "stream",
     "text": [
      "\n",
      "Test accuracy for best estimator is 90%\n"
     ]
    }
   ],
   "source": [
    "y_pred=gsearch.predict(test_data)\n",
    "acc = accuracy_score(y_test, y_pred, normalize=True) * float(100)\n",
    "print('\\nTest accuracy for best estimator is %d%%' % ( acc))"
   ]
  },
  {
   "cell_type": "markdown",
   "metadata": {},
   "source": [
    "#### Confusion matrix , Precision, Recall, F-Score"
   ]
  },
  {
   "cell_type": "code",
   "execution_count": 190,
   "metadata": {},
   "outputs": [
    {
     "name": "stdout",
     "output_type": "stream",
     "text": [
      "[[ 9697  9370]\n",
      " [  637 89496]]\n",
      "Precision :- 0.9052252543847228\n",
      "Recall    :- 0.9929326661711027\n",
      "F1 Score  :- 0.9052252543847228\n"
     ]
    }
   ],
   "source": [
    "# print the confusion matrix\n",
    "from sklearn.metrics import confusion_matrix\n",
    "from sklearn import metrics\n",
    "gb=metrics.confusion_matrix(y_test,y_pred)\n",
    "print(gb)\n",
    "#plotting the confusion matrix\n",
    "#Plot of Confusion Metric\n",
    "#precision From above Confusion Metric\n",
    "#Recall From above Confusion Metric \n",
    "recall=(gb[1,1]+0.0)/sum(gb[1,:])\n",
    "pre=(gb[1,1]+0.0)/sum(gb[:,1])\n",
    "F1=(2*pre*recall)/(pre+recall)\n",
    "print(\"Precision :-\",pre)\n",
    "print(\"Recall    :-\",recall)\n",
    "print(\"F1 Score  :-\",pre)"
   ]
  },
  {
   "cell_type": "code",
   "execution_count": 191,
   "metadata": {
    "scrolled": true
   },
   "outputs": [
    {
     "data": {
      "image/png": "[encoded data removed]",
      "text/plain": [
       "<matplotlib.figure.Figure at 0x215c0409f28>"
      ]
     },
     "metadata": {},
     "output_type": "display_data"
    }
   ],
   "source": [
    "\n",
    "plot_confusion_matrix(cm           = np.array([[ 14466  ,4601],[7421 ,82712]]), \n",
    "                      normalize    = False,\n",
    "                      target_names = ['negative', 'positive'],\n",
    "                      title        = \"Confusion Matrix\")"
   ]
  },
  {
   "cell_type": "markdown",
   "metadata": {},
   "source": [
    "# Logistic Regression L2 without Class balancing"
   ]
  },
  {
   "cell_type": "code",
   "execution_count": 192,
   "metadata": {},
   "outputs": [
    {
     "data": {
      "text/plain": [
       "GridSearchCV(cv=<generator object TimeSeriesSplit.split at 0x00000215D9EC9780>,\n",
       "       error_score='raise',\n",
       "       estimator=LogisticRegression(C=1.0, class_weight=None, dual=False, fit_intercept=True,\n",
       "          intercept_scaling=1, max_iter=100, multi_class='ovr', n_jobs=1,\n",
       "          penalty='l2', random_state=None, solver='liblinear', tol=0.0001,\n",
       "          verbose=0, warm_start=False),\n",
       "       fit_params=None, iid=True, n_jobs=1,\n",
       "       param_grid=[{'C': [0.01, 1, 3, 4, 5, 6, 100]}],\n",
       "       pre_dispatch='2*n_jobs', refit=True, return_train_score='warn',\n",
       "       scoring='accuracy', verbose=0)"
      ]
     },
     "execution_count": 192,
     "metadata": {},
     "output_type": "execute_result"
    }
   ],
   "source": [
    "#https://stackoverflow.com/questions/46732748/how-do-i-use-a-timeseriessplit-with-a-gridsearchcv-object-to-tune-a-model-in-sciimport xgboost as xgb\n",
    "from sklearn.model_selection import TimeSeriesSplit, GridSearchCV\n",
    "import numpy as np\n",
    "X = big_data\n",
    "y = y_1\n",
    "tscv = TimeSeriesSplit(n_splits=3)\n",
    "Cs = [10**-4, 10**-2, 10**0, 10**2, 10**4]\n",
    "model = xgb.XGBRegressor()\n",
    "param_search = [{'C': [10**-2, 10**0, 3, 4, 5, 6 ,10**2]}]\n",
    "\n",
    "my_cv = TimeSeriesSplit(n_splits=3).split(X)\n",
    "gsearch = GridSearchCV(LogisticRegression(), param_search, scoring = 'accuracy', cv=my_cv)\n",
    "gsearch.fit(X, y)"
   ]
  },
  {
   "cell_type": "code",
   "execution_count": 193,
   "metadata": {},
   "outputs": [
    {
     "name": "stdout",
     "output_type": "stream",
     "text": [
      "\n",
      "Test accuracy for best estimator is 90%\n"
     ]
    }
   ],
   "source": [
    "y_pred=gsearch.predict(test_data)\n",
    "acc = accuracy_score(y_test, y_pred, normalize=True) * float(100)\n",
    "print('\\nTest accuracy for best estimator is %d%%' % ( acc))"
   ]
  },
  {
   "cell_type": "code",
   "execution_count": 194,
   "metadata": {},
   "outputs": [
    {
     "name": "stdout",
     "output_type": "stream",
     "text": [
      "[[ 9223  9844]\n",
      " [  577 89556]]\n",
      "Precision :- 0.9009657947686117\n",
      "Recall    :- 0.9935983491063206\n",
      "F1 Score  :- 0.9009657947686117\n"
     ]
    }
   ],
   "source": [
    "gb=metrics.confusion_matrix(y_test,y_pred)\n",
    "print(gb)\n",
    "#plotting the confusion matrix\n",
    "#Plot of Confusion Metric\n",
    "#precision From above Confusion Metric\n",
    "#Recall From above Confusion Metric \n",
    "recall=(gb[1,1]+0.0)/sum(gb[1,:])\n",
    "pre=(gb[1,1]+0.0)/sum(gb[:,1])\n",
    "F1=(2*pre*recall)/(pre+recall)\n",
    "print(\"Precision :-\",pre)\n",
    "print(\"Recall    :-\",recall)\n",
    "print(\"F1 Score  :-\",pre)"
   ]
  },
  {
   "cell_type": "code",
   "execution_count": 195,
   "metadata": {},
   "outputs": [
    {
     "data": {
      "image/png": "[encoded data removed]",
      "text/plain": [
       "<matplotlib.figure.Figure at 0x215c03a99e8>"
      ]
     },
     "metadata": {},
     "output_type": "display_data"
    }
   ],
   "source": [
    "plot_confusion_matrix(cm           = np.array([[ 13111   ,5956],[4140  ,85993]]), \n",
    "                      normalize    = False,\n",
    "                      target_names = ['negative', 'positive'],\n",
    "                      title        = \"Confusion Matrix\")"
   ]
  },
  {
   "cell_type": "markdown",
   "metadata": {},
   "source": [
    "__Misclassification error__"
   ]
  },
  {
   "cell_type": "code",
   "execution_count": 196,
   "metadata": {},
   "outputs": [
    {
     "name": "stderr",
     "output_type": "stream",
     "text": [
      "C:\\Users\\Yaakuza\\Anaconda3\\lib\\site-packages\\sklearn\\model_selection\\_search.py:762: DeprecationWarning: The grid_scores_ attribute was deprecated in version 0.18 in favor of the more elaborate cv_results_ attribute. The grid_scores_ attribute will not be available from 0.20\n",
      "  DeprecationWarning)\n"
     ]
    },
    {
     "data": {
      "image/png": "[encoded data removed]",
      "text/plain": [
       "<matplotlib.figure.Figure at 0x2158c573c50>"
      ]
     },
     "metadata": {},
     "output_type": "display_data"
    }
   ],
   "source": [
    "\n",
    "Cs = [10**-2, 10**0, 3, 4, 5, 6 ,10**2]\n",
    "scores = [x[1] for x in gsearch.grid_scores_]\n",
    "scores = np.array(scores).reshape(len(Cs))\n",
    "plt.figure(figsize=(20,6))\n",
    "plt.plot(Cs, scores, label='C: ' )\n",
    "\n",
    "for xy in zip(Cs, np.round(scores,3)):\n",
    "    plt.annotate('(%s, %s)' % xy, xy=xy, textcoords='data')\n",
    "\n",
    "plt.xlabel('Different C values')\n",
    "plt.ylabel('Scores')\n",
    "plt.show()\n",
    "   "
   ]
  },
  {
   "cell_type": "markdown",
   "metadata": {},
   "source": [
    "__Now using L1 Regulariser in Logistic Regrression with class balancing__"
   ]
  },
  {
   "cell_type": "code",
   "execution_count": 197,
   "metadata": {},
   "outputs": [
    {
     "data": {
      "text/plain": [
       "GridSearchCV(cv=<generator object TimeSeriesSplit.split at 0x00000215D9EC99E8>,\n",
       "       error_score='raise',\n",
       "       estimator=LogisticRegression(C=1.0, class_weight='balanced', dual=False,\n",
       "          fit_intercept=True, intercept_scaling=1, max_iter=100,\n",
       "          multi_class='ovr', n_jobs=1, penalty='l1', random_state=None,\n",
       "          solver='liblinear', tol=0.0001, verbose=0, warm_start=False),\n",
       "       fit_params=None, iid=True, n_jobs=1,\n",
       "       param_grid=[{'C': [0.01, 1, 3, 4, 5, 6, 100]}],\n",
       "       pre_dispatch='2*n_jobs', refit=True, return_train_score='warn',\n",
       "       scoring='accuracy', verbose=0)"
      ]
     },
     "execution_count": 197,
     "metadata": {},
     "output_type": "execute_result"
    }
   ],
   "source": [
    "#https://stackoverflow.com/questions/46732748/how-do-i-use-a-timeseriessplit-with-a-gridsearchcv-object-to-tune-a-model-in-sciimport xgboost as xgb\n",
    "from sklearn.model_selection import TimeSeriesSplit, GridSearchCV\n",
    "import numpy as np\n",
    "X = big_data\n",
    "y = y_1\n",
    "tscv = TimeSeriesSplit(n_splits=3)\n",
    "\n",
    "model = xgb.XGBRegressor()\n",
    "param_search = [{'C': [10**-2, 10**0, 3, 4, 5, 6 ,10**2]}]\n",
    "\n",
    "my_cv = TimeSeriesSplit(n_splits=3).split(X)\n",
    "gsearch = GridSearchCV(LogisticRegression(class_weight='balanced',penalty='l1'), param_search, scoring = 'accuracy', cv=my_cv)\n",
    "gsearch.fit(X, y)"
   ]
  },
  {
   "cell_type": "code",
   "execution_count": 198,
   "metadata": {},
   "outputs": [
    {
     "name": "stdout",
     "output_type": "stream",
     "text": [
      "\n",
      "Test accuracy for best estimator is 93%\n"
     ]
    }
   ],
   "source": [
    "y_pred=gsearch.predict(test_data)\n",
    "acc = accuracy_score(y_test, y_pred, normalize=True) * float(100)\n",
    "print('\\nTest accuracy for best estimator is %d%%' % ( acc))\n"
   ]
  },
  {
   "cell_type": "code",
   "execution_count": 199,
   "metadata": {},
   "outputs": [
    {
     "name": "stdout",
     "output_type": "stream",
     "text": [
      "[[14730  4337]\n",
      " [ 2287 87846]]\n",
      "Precision :- 0.9529522797045008\n",
      "Recall    :- 0.9746263854526089\n",
      "F1 Score  :- 0.9529522797045008\n"
     ]
    }
   ],
   "source": [
    "gb=metrics.confusion_matrix(y_test,y_pred)\n",
    "print(gb)\n",
    "recall=(gb[1,1]+0.0)/sum(gb[1,:])\n",
    "pre=(gb[1,1]+0.0)/sum(gb[:,1])\n",
    "F1=(2*pre*recall)/(pre+recall)\n",
    "print(\"Precision :-\",pre)\n",
    "print(\"Recall    :-\",recall)\n",
    "print(\"F1 Score  :-\",pre)"
   ]
  },
  {
   "cell_type": "code",
   "execution_count": 221,
   "metadata": {},
   "outputs": [
    {
     "data": {
      "image/png": "[encoded data removed]",
      "text/plain": [
       "<matplotlib.figure.Figure at 0x215bbdbcd68>"
      ]
     },
     "metadata": {},
     "output_type": "display_data"
    }
   ],
   "source": [
    "plot_confusion_matrix(cm           = np.array([[ 14730 ,4337],[2287 ,87846]]), \n",
    "                      normalize    = False,\n",
    "                      target_names = ['negative', 'positive'],\n",
    "                      title        = \"Confusion Matrix\")"
   ]
  },
  {
   "cell_type": "markdown",
   "metadata": {},
   "source": [
    "__Now using L1 Regulariser in Logistic Regrression without class balancing__"
   ]
  },
  {
   "cell_type": "code",
   "execution_count": 201,
   "metadata": {},
   "outputs": [
    {
     "data": {
      "text/plain": [
       "GridSearchCV(cv=<generator object TimeSeriesSplit.split at 0x0000021526D1C048>,\n",
       "       error_score='raise',\n",
       "       estimator=LogisticRegression(C=1.0, class_weight=None, dual=False, fit_intercept=True,\n",
       "          intercept_scaling=1, max_iter=100, multi_class='ovr', n_jobs=1,\n",
       "          penalty='l1', random_state=None, solver='liblinear', tol=0.0001,\n",
       "          verbose=0, warm_start=False),\n",
       "       fit_params=None, iid=True, n_jobs=1,\n",
       "       param_grid=[{'C': [0.01, 1, 3, 4, 5, 6, 100]}],\n",
       "       pre_dispatch='2*n_jobs', refit=True, return_train_score='warn',\n",
       "       scoring='accuracy', verbose=0)"
      ]
     },
     "execution_count": 201,
     "metadata": {},
     "output_type": "execute_result"
    }
   ],
   "source": [
    "#https://stackoverflow.com/questions/46732748/how-do-i-use-a-timeseriessplit-with-a-gridsearchcv-object-to-tune-a-model-in-sciimport xgboost as xgb\n",
    "from sklearn.model_selection import TimeSeriesSplit, GridSearchCV\n",
    "import numpy as np\n",
    "X = big_data\n",
    "y = y_1\n",
    "tscv = TimeSeriesSplit(n_splits=3)\n",
    "\n",
    "model = xgb.XGBRegressor()\n",
    "param_search = [{'C':[10**-2, 10**0, 3, 4, 5, 6 ,10**2]}]\n",
    "\n",
    "my_cv = TimeSeriesSplit(n_splits=3).split(X)\n",
    "gsearch = GridSearchCV(LogisticRegression(penalty='l1'), param_search, scoring = 'accuracy', cv=my_cv)\n",
    "gsearch.fit(X, y)"
   ]
  },
  {
   "cell_type": "code",
   "execution_count": 202,
   "metadata": {},
   "outputs": [
    {
     "name": "stdout",
     "output_type": "stream",
     "text": [
      "\n",
      "Test accuracy for best estimator is 93%\n"
     ]
    }
   ],
   "source": [
    "y_pred=gsearch.predict(test_data)\n",
    "acc = accuracy_score(y_test, y_pred, normalize=True) * float(100)\n",
    "print('\\nTest accuracy for best estimator is %d%%' % ( acc))\n"
   ]
  },
  {
   "cell_type": "code",
   "execution_count": 203,
   "metadata": {},
   "outputs": [
    {
     "name": "stdout",
     "output_type": "stream",
     "text": [
      "[[13056  6011]\n",
      " [ 1215 88918]]\n",
      "Precision :- 0.9366789916674567\n",
      "Recall    :- 0.9865199205618363\n",
      "F1 Score  :- 0.9366789916674567\n"
     ]
    }
   ],
   "source": [
    "gb=metrics.confusion_matrix(y_test,y_pred)\n",
    "print(gb)\n",
    "#plotting the confusion matrix\n",
    "#Plot of Confusion Metric\n",
    "#precision From above Confusion Metric\n",
    "#Recall From above Confusion Metric \n",
    "recall=(gb[1,1]+0.0)/sum(gb[1,:])\n",
    "pre=(gb[1,1]+0.0)/sum(gb[:,1])\n",
    "F1=(2*pre*recall)/(pre+recall)\n",
    "print(\"Precision :-\",pre)\n",
    "print(\"Recall    :-\",recall)\n",
    "print(\"F1 Score  :-\",pre)"
   ]
  },
  {
   "cell_type": "code",
   "execution_count": 220,
   "metadata": {},
   "outputs": [
    {
     "data": {
      "image/png": "[encoded data removed]",
      "text/plain": [
       "<matplotlib.figure.Figure at 0x2158789ec18>"
      ]
     },
     "metadata": {},
     "output_type": "display_data"
    }
   ],
   "source": [
    "plot_confusion_matrix(cm           = np.array([[ 13056     ,6011],[1215    ,88918]]), \n",
    "                      normalize    = False,\n",
    "                      target_names = ['negative', 'positive'],\n",
    "                      title        = \"Confusion Matrix\")"
   ]
  },
  {
   "cell_type": "markdown",
   "metadata": {},
   "source": [
    "__ Finding Sparsity of W vector for increasing values of C (Decreasing values of Lambda)__"
   ]
  },
  {
   "cell_type": "code",
   "execution_count": 205,
   "metadata": {},
   "outputs": [
    {
     "name": "stdout",
     "output_type": "stream",
     "text": [
      "C=0.01\n",
      "Sparsity with L1 penalty: 96.70%\n",
      "---------------------------------------------------------------\n",
      "C=0.05\n",
      "Sparsity with L1 penalty: 95.11%\n",
      "---------------------------------------------------------------\n",
      "C=0.08\n",
      "Sparsity with L1 penalty: 95.42%\n",
      "---------------------------------------------------------------\n",
      "C=1.20\n",
      "Sparsity with L1 penalty: 94.74%\n",
      "---------------------------------------------------------------\n",
      "C=2.00\n",
      "Sparsity with L1 penalty: 94.01%\n",
      "---------------------------------------------------------------\n",
      "C=10.00\n",
      "Sparsity with L1 penalty: 91.82%\n",
      "---------------------------------------------------------------\n",
      "C=20.00\n",
      "Sparsity with L1 penalty: 90.24%\n",
      "---------------------------------------------------------------\n",
      "C=30.00\n",
      "Sparsity with L1 penalty: 86.19%\n",
      "---------------------------------------------------------------\n",
      "C=40.00\n",
      "Sparsity with L1 penalty: 90.59%\n",
      "---------------------------------------------------------------\n",
      "C=70.00\n",
      "Sparsity with L1 penalty: 88.96%\n",
      "---------------------------------------------------------------\n",
      "C=150.00\n",
      "Sparsity with L1 penalty: 85.11%\n",
      "---------------------------------------------------------------\n"
     ]
    }
   ],
   "source": [
    "#http://scikit-learn.org/stable/auto_examples/linear_model/plot_logistic_l1_l2_sparsity.html\n",
    "l1_list=[0.01,0.05,0.08,1.2,2.0,10,20,30,40,70,150]\n",
    "for item in l1_list:\n",
    "    clf = LogisticRegression(random_state=0,penalty='l1',C=item).fit(big_data, y_1)\n",
    "    #model = GridSearchCV(LogisticRegression(penalty='l1',C=item), tuned_parameters, scoring = 'accuracy', cv=5)\n",
    "    #model.fit(big_data, y_1)\n",
    "    coef = clf.coef_.ravel()\n",
    "    sparsity_l1_LR = np.mean(coef == 0) * 100\n",
    "    print(\"C=%.2f\" % item)\n",
    "    print(\"Sparsity with L1 penalty: %.2f%%\" % sparsity_l1_LR)\n",
    "    print('---------------------------------------------------------------')"
   ]
  },
  {
   "cell_type": "markdown",
   "metadata": {},
   "source": [
    "__As we can see with different values of C i.e inverse of Lambda the sparsity of w* vector is changing.__\n",
    "1. as C increases (lambda decreases) the sparsity decreases. i.e as lambda increases the sparsity also increases\n",
    "2. this proves the fact that in L1 regurarization when lambda increases the sparsity also increases "
   ]
  },
  {
   "cell_type": "markdown",
   "metadata": {},
   "source": [
    "##### We are printing the top words which have the highest probablity in  positive and negative reviews."
   ]
  },
  {
   "cell_type": "code",
   "execution_count": 206,
   "metadata": {
    "collapsed": true
   },
   "outputs": [],
   "source": [
    "clf = LogisticRegression(C=5).fit(big_data, y_1)\n",
    "clf.predict(test_data)\n",
    "wv=clf.coef_\n",
    "abs_weights = np.abs(wv)"
   ]
  },
  {
   "cell_type": "code",
   "execution_count": 207,
   "metadata": {},
   "outputs": [
    {
     "data": {
      "text/plain": [
       "array([[-0.01356872, -0.0006246 , -0.000544  , ...,  0.00082314,\n",
       "         0.00072629,  0.00072629]])"
      ]
     },
     "execution_count": 207,
     "metadata": {},
     "output_type": "execute_result"
    }
   ],
   "source": [
    "sorted(wv)\n",
    "\n",
    "hm=wv[-1:]\n",
    "hm"
   ]
  },
  {
   "cell_type": "code",
   "execution_count": 208,
   "metadata": {},
   "outputs": [
    {
     "name": "stdout",
     "output_type": "stream",
     "text": [
      "\t\t\tNEGATIVE\t\t\t\t\t\tPOSITIVE\n",
      "________________________________________________________________________________________________\n",
      "\t-0.0325\tdrive          \t\t\t\t0.0518\tyowie          \n",
      "\t-0.0308\tgreenpowder    \t\t\t\t0.0353\tlindas         \n",
      "\t-0.0275\tsnackalicious  \t\t\t\t0.0339\tgreese         \n",
      "\t-0.0271\tstylish        \t\t\t\t0.0308\tunfavorable    \n",
      "\t-0.0245\t017            \t\t\t\t0.0299\tmenial         \n",
      "\t-0.0243\tfancifully     \t\t\t\t0.0292\tmcqueen        \n",
      "\t-0.0243\tktoo           \t\t\t\t0.0281\tflutterby2554  \n",
      "\t-0.0239\tleamonade      \t\t\t\t0.0265\tfleisch        \n",
      "\t-0.0238\tfamiliar       \t\t\t\t0.0262\tflipped        \n",
      "\t-0.0236\tprimia         \t\t\t\t0.0245\tgrinz          \n",
      "\t-0.0232\tsplashed       \t\t\t\t0.0242\tstreet         \n",
      "\t-0.0229\tvinci          \t\t\t\t0.0234\twhammy         \n",
      "\t-0.0224\tsmothered      \t\t\t\t0.0232\tmechs          \n",
      "\t-0.0217\ttitch          \t\t\t\t0.0229\tgrubex         \n",
      "\t-0.0217\tsnippit        \t\t\t\t0.0229\tmedian         \n",
      "\t-0.0213\t8013           \t\t\t\t0.0221\tsluicing       \n",
      "\t-0.0208\trustica        \t\t\t\t0.0220\twhow           \n",
      "\t-0.0207\tatlanta        \t\t\t\t0.0215\tmunicipality   \n",
      "\t-0.0206\tb000f4f952     \t\t\t\t0.0199\tenvorment      \n",
      "\t-0.0201\t42bucks        \t\t\t\t0.0195\ttropics        \n",
      "\t-0.0201\tgrourmet       \t\t\t\t0.0193\tsquidgy        \n",
      "\t-0.0199\tseite          \t\t\t\t0.0192\tzoomies        \n",
      "\t-0.0196\tlathers        \t\t\t\t0.0190\tvelva          \n",
      "\t-0.0195\ttheanimal      \t\t\t\t0.0190\tmagnolia       \n",
      "\t-0.0193\traison         \t\t\t\t0.0189\trainwater      \n"
     ]
    }
   ],
   "source": [
    "def show_most_informative_features(vectorizer, clf, n=25):\n",
    "    feature_names = vectorizer.get_feature_names()\n",
    "    coefs_with_fns = sorted(zip(clf.coef_[0], feature_names))\n",
    "    top = zip(coefs_with_fns[:n], coefs_with_fns[:-(n + 1):-1])\n",
    "    print(\"\\t\\t\\tNEGATIVE\\t\\t\\t\\t\\t\\tPOSITIVE\")\n",
    "    print(\"________________________________________________________________________________________________\")\n",
    "    for (coef_1, fn_1), (coef_2, fn_2) in top:\n",
    "        print(\"\\t%.4f\\t%-15s\\t\\t\\t\\t%.4f\\t%-15s\" % (coef_1, fn_1, coef_2, fn_2))\n",
    "        \n",
    "show_most_informative_features(count_vect,clf)\n",
    "#Code Reference:https://stackoverflow.com/questions/11116697/how-to-get-most-informative-features-for-scikit-learn-classifiers"
   ]
  },
  {
   "cell_type": "markdown",
   "metadata": {},
   "source": [
    "## Perturbation Test"
   ]
  },
  {
   "cell_type": "code",
   "execution_count": 209,
   "metadata": {},
   "outputs": [
    {
     "name": "stdout",
     "output_type": "stream",
     "text": [
      "Accuracy on test set: 90.470%\n",
      "Non Zero weights: 2301100\n"
     ]
    }
   ],
   "source": [
    "from sklearn.linear_model import LogisticRegression\n",
    "\n",
    "clf = LogisticRegression(C= 8, penalty= 'l2')\n",
    "clf.fit(big_data,y_1)\n",
    "y_pred = clf.predict(test_data)\n",
    "print(\"Accuracy on test set: %0.3f%%\"%(accuracy_score(y_test, y_pred)*100))\n",
    "print(\"Non Zero weights:\",np.count_nonzero(clf.coef_))"
   ]
  },
  {
   "cell_type": "code",
   "execution_count": 210,
   "metadata": {
    "collapsed": true
   },
   "outputs": [],
   "source": [
    "from scipy.sparse import find\n",
    "#Weights before adding random noise\n",
    "w1 = find(clf.coef_[0])[2]\n"
   ]
  },
  {
   "cell_type": "code",
   "execution_count": 212,
   "metadata": {},
   "outputs": [],
   "source": [
    "from scipy.sparse import find\n",
    "\n",
    "#epsilon = np.random.normal(loc=0.0, scale=0.00000001)\n",
    "epsilon = np.random.uniform(low=-0.0001, high=0.0001, size=(find(big_data)[0].size,))\n",
    "new_data = big_data.copy()\n",
    "#Random noise\n",
    "#Getting the postions(row and column) and value of non-zero datapoints \n",
    "a,b,c = find(new_data)\n",
    "\n",
    "#Introducing random noise to non-zero datapoints\n",
    "new_data[a,b] = epsilon + new_data[a,b] "
   ]
  },
  {
   "cell_type": "code",
   "execution_count": 213,
   "metadata": {},
   "outputs": [
    {
     "name": "stdout",
     "output_type": "stream",
     "text": [
      "Accuracy on test set: 90.233%\n",
      "Non Zero weights: 2301100\n"
     ]
    }
   ],
   "source": [
    "#Training on train data having random noise\n",
    "from sklearn.linear_model import LogisticRegression\n",
    "\n",
    "clf = LogisticRegression(C= 9, penalty= 'l2')\n",
    "clf.fit(new_data,y_1)\n",
    "y_pred = clf.predict(test_data)\n",
    "print(\"Accuracy on test set: %0.3f%%\"%(accuracy_score(y_test, y_pred)*100))\n",
    "print(\"Non Zero weights:\",np.count_nonzero(clf.coef_))"
   ]
  },
  {
   "cell_type": "code",
   "execution_count": 214,
   "metadata": {},
   "outputs": [
    {
     "data": {
      "text/plain": [
       "(95227,)"
      ]
     },
     "execution_count": 214,
     "metadata": {},
     "output_type": "execute_result"
    }
   ],
   "source": [
    "w2.shape"
   ]
  },
  {
   "cell_type": "code",
   "execution_count": 215,
   "metadata": {},
   "outputs": [
    {
     "data": {
      "text/plain": [
       "(2301100,)"
      ]
     },
     "execution_count": 215,
     "metadata": {},
     "output_type": "execute_result"
    }
   ],
   "source": [
    "w1.shape"
   ]
  },
  {
   "cell_type": "code",
   "execution_count": 216,
   "metadata": {
    "collapsed": true
   },
   "outputs": [],
   "source": [
    "#Weights after adding random noise\n",
    "w2 = find(clf.coef_[0])[2]\n"
   ]
  },
  {
   "cell_type": "code",
   "execution_count": 217,
   "metadata": {
    "collapsed": true
   },
   "outputs": [],
   "source": [
    "diff = (abs(w1 - w2)/w1) * 100"
   ]
  },
  {
   "cell_type": "code",
   "execution_count": 218,
   "metadata": {},
   "outputs": [
    {
     "name": "stdout",
     "output_type": "stream",
     "text": [
      "287753\n"
     ]
    }
   ],
   "source": [
    "print(diff[np.where(diff > 30)].size)"
   ]
  },
  {
   "cell_type": "markdown",
   "metadata": {},
   "source": [
    "\n",
    "__\"\"We have 287753 feature whose beight changed more then 30 percent\"\"__"
   ]
  },
  {
   "cell_type": "code",
   "execution_count": 219,
   "metadata": {},
   "outputs": [
    {
     "name": "stdout",
     "output_type": "stream",
     "text": [
      "Euclidean distance between two vectors is:- 0.31236802981925144\n",
      "Cosine similarity between two vectors is:- 0.9972256090202093\n"
     ]
    }
   ],
   "source": [
    "from scipy.spatial import distance\n",
    "from scipy import spatial\n",
    "dst = distance.euclidean(w1, w2)\n",
    "result = 1 - spatial.distance.cosine(w1,w2)\n",
    "print(\"Euclidean distance between two vectors is:-\",dst)\n",
    "print(\"Cosine similarity between two vectors is:-\",result)"
   ]
  },
  {
   "cell_type": "markdown",
   "metadata": {},
   "source": [
    "__Now Trying on Word2Vec__"
   ]
  },
  {
   "cell_type": "code",
   "execution_count": 228,
   "metadata": {
    "collapsed": true
   },
   "outputs": [],
   "source": [
    "# Train your own Word2Vec model using your own text corpus for train Data\n",
    "import gensim\n",
    "i=0\n",
    "list_of_sent_train=[]\n",
    "for sent in X_1['Text'].values:\n",
    "    filtered_sentence=[]\n",
    "    sent=cleanhtml(sent)\n",
    "    for w in sent.split():\n",
    "        for cleaned_words in cleanpunc(w).split():\n",
    "            if(cleaned_words.isalpha()):    \n",
    "                filtered_sentence.append(cleaned_words.lower())\n",
    "            else:\n",
    "                continue \n",
    "    list_of_sent_train.append(filtered_sentence)\n",
    "    "
   ]
  },
  {
   "cell_type": "code",
   "execution_count": 229,
   "metadata": {},
   "outputs": [
    {
     "name": "stdout",
     "output_type": "stream",
     "text": [
      "number of words that occured minimum 5 times  28914\n",
      "sample words  ['this', 'witty', 'little', 'book', 'makes', 'my', 'son', 'laugh', 'at', 'loud', 'i', 'it', 'in', 'the', 'car', 'as', 'were', 'driving', 'along', 'and', 'he', 'always', 'can', 'sing', 'refrain', 'hes', 'learned', 'about', 'whales', 'india', 'drooping', 'love', 'all', 'new', 'words', 'introduces', 'silliness', 'of', 'is', 'a', 'classic', 'am', 'willing', 'to', 'bet', 'will', 'still', 'be', 'able', 'from']\n"
     ]
    }
   ],
   "source": [
    "# min_count = 5 considers only words that occured atleast 5 times\n",
    "import gensim\n",
    "from gensim import models\n",
    "from gensim.models import Word2Vec, KeyedVectors\n",
    "w2v_model=Word2Vec(list_of_sent_train,min_count=5,size=50, workers=4)\n",
    "w2v_words = list(w2v_model.wv.vocab)\n",
    "print(\"number of words that occured minimum 5 times \",len(w2v_words))\n",
    "print(\"sample words \", w2v_words[0:50])"
   ]
  },
  {
   "cell_type": "code",
   "execution_count": 231,
   "metadata": {},
   "outputs": [
    {
     "name": "stdout",
     "output_type": "stream",
     "text": [
      "254800\n",
      "50\n"
     ]
    }
   ],
   "source": [
    "\n",
    "# average Word2Vec\n",
    "# compute average word2vec for each review.\n",
    "sent_vectors_train = []; # the avg-w2v for each sentence/review is stored in this list\n",
    "for sent in list_of_sent_train: # for each review/sentence\n",
    "    sent_vec = np.zeros(50) # as word vectors are of zero length\n",
    "    cnt_words =0; # num of words with a valid vector in the sentence/review\n",
    "    for word in sent: # for each word in a review/sentence\n",
    "        if word in w2v_words:\n",
    "            vec = w2v_model.wv[word]\n",
    "            sent_vec += vec\n",
    "            cnt_words += 1\n",
    "    if cnt_words != 0:\n",
    "        sent_vec /= cnt_words\n",
    "    sent_vectors_train.append(sent_vec)\n",
    "print(len(sent_vectors_train))\n",
    "print(len(sent_vectors_train[0]))"
   ]
  },
  {
   "cell_type": "code",
   "execution_count": 230,
   "metadata": {
    "collapsed": true
   },
   "outputs": [],
   "source": [
    "# Train your own Word2Vec model using your own text corpus for test Data\n",
    "import gensim\n",
    "i=0\n",
    "list_of_sent_test=[]\n",
    "for sent in X_test['Text'].values:\n",
    "    filtered_sentence=[]\n",
    "    sent=cleanhtml(sent)\n",
    "    for w in sent.split():\n",
    "        for cleaned_words in cleanpunc(w).split():\n",
    "            if(cleaned_words.isalpha()):    \n",
    "                filtered_sentence.append(cleaned_words.lower())\n",
    "            else:\n",
    "                continue \n",
    "    list_of_sent_test.append(filtered_sentence)\n",
    "    "
   ]
  },
  {
   "cell_type": "code",
   "execution_count": 232,
   "metadata": {},
   "outputs": [
    {
     "name": "stdout",
     "output_type": "stream",
     "text": [
      "number of words that occured minimum 5 times  19804\n",
      "sample words  ['the', 'only', 'good', 'comment', 'i', 'can', 'give', 'on', 'these', 'treats', 'is', 'that', 'my', 'cat', 'liked', 'them', 'when', 'they', 'were', 'fresh', 'and', 'are', 'really', 'inexpensive', 'usually', 'find', 'for', 'under', 'two', 'dollars', 'at', 'grocery', 'or', 'pet', 'store', 'even', 'occasion', 'dollar', 'as', 'this', 'treat', 'proves', 'often', 'with', 'a', 'low', 'price', 'comes', 'cheap', 'product']\n"
     ]
    }
   ],
   "source": [
    "# min_count = 5 considers only words that occured atleast 5 times\n",
    "w2v_model=Word2Vec(list_of_sent_test,min_count=5,size=50, workers=4)\n",
    "w2v_words = list(w2v_model.wv.vocab)\n",
    "print(\"number of words that occured minimum 5 times \",len(w2v_words))\n",
    "print(\"sample words \", w2v_words[0:50])"
   ]
  },
  {
   "cell_type": "code",
   "execution_count": 234,
   "metadata": {},
   "outputs": [
    {
     "name": "stdout",
     "output_type": "stream",
     "text": [
      "109200\n",
      "50\n"
     ]
    }
   ],
   "source": [
    "# average Word2Vec\n",
    "# compute average word2vec for each review.\n",
    "sent_vectors_test = []; # the avg-w2v for each sentence/review is stored in this list\n",
    "for sent in list_of_sent_test: # for each review/sentence\n",
    "    sent_vec = np.zeros(50) # as word vectors are of zero length\n",
    "    cnt_words =0; # num of words with a valid vector in the sentence/review\n",
    "    for word in sent: # for each word in a review/sentence\n",
    "        if word in w2v_words:\n",
    "            vec = w2v_model.wv[word]\n",
    "            sent_vec += vec\n",
    "            cnt_words += 1\n",
    "    if cnt_words != 0:\n",
    "        sent_vec /= cnt_words\n",
    "    sent_vectors_test.append(sent_vec)\n",
    "print(len(sent_vectors_test))\n",
    "print(len(sent_vectors_test[0]))"
   ]
  },
  {
   "cell_type": "markdown",
   "metadata": {},
   "source": [
    "##### Standardizing our Train and Test word2vec vectors "
   ]
  },
  {
   "cell_type": "code",
   "execution_count": 235,
   "metadata": {},
   "outputs": [
    {
     "name": "stdout",
     "output_type": "stream",
     "text": [
      "(254800, 50)\n"
     ]
    }
   ],
   "source": [
    "#from sklearn.preprocessing import StandardScaler\n",
    "from sklearn.preprocessing import StandardScaler\n",
    "#np.isnan(sent_vectors_train.values.any())\n",
    "#Where sent_vectors_train is my pandas Dataframe \n",
    "standardized_data_train = StandardScaler(with_mean=False).fit_transform(sent_vectors_train)\n",
    "print(standardized_data_train.shape)"
   ]
  },
  {
   "cell_type": "code",
   "execution_count": 236,
   "metadata": {},
   "outputs": [
    {
     "name": "stdout",
     "output_type": "stream",
     "text": [
      "(109200, 50)\n"
     ]
    }
   ],
   "source": [
    "#from sklearn.preprocessing import StandardScaler\n",
    "from sklearn.preprocessing import StandardScaler\n",
    "standardized_data_test = StandardScaler(with_mean=False).fit_transform(sent_vectors_test)\n",
    "print(standardized_data_test.shape)"
   ]
  },
  {
   "cell_type": "code",
   "execution_count": 237,
   "metadata": {
    "collapsed": true
   },
   "outputs": [],
   "source": [
    "big_data=standardized_data_train"
   ]
  },
  {
   "cell_type": "code",
   "execution_count": 238,
   "metadata": {
    "collapsed": true
   },
   "outputs": [],
   "source": [
    "X=big_data\n",
    "test_data=standardized_data_test\n",
    "y=y_1"
   ]
  },
  {
   "cell_type": "markdown",
   "metadata": {},
   "source": [
    "# Logistic Regression With CLASS - BALANCING"
   ]
  },
  {
   "cell_type": "code",
   "execution_count": 239,
   "metadata": {},
   "outputs": [
    {
     "data": {
      "text/plain": [
       "GridSearchCV(cv=<generator object TimeSeriesSplit.split at 0x00000216DD28EE08>,\n",
       "       error_score='raise',\n",
       "       estimator=LogisticRegression(C=1.0, class_weight='balanced', dual=False,\n",
       "          fit_intercept=True, intercept_scaling=1, max_iter=100,\n",
       "          multi_class='ovr', n_jobs=1, penalty='l2', random_state=None,\n",
       "          solver='liblinear', tol=0.0001, verbose=0, warm_start=False),\n",
       "       fit_params=None, iid=True, n_jobs=1,\n",
       "       param_grid=[{'C': [0.01, 1, 3, 4, 5, 6, 100]}],\n",
       "       pre_dispatch='2*n_jobs', refit=True, return_train_score='warn',\n",
       "       scoring='accuracy', verbose=0)"
      ]
     },
     "execution_count": 239,
     "metadata": {},
     "output_type": "execute_result"
    }
   ],
   "source": [
    "#https://stackoverflow.com/questions/46732748/how-do-i-use-a-timeseriessplit-with-a-gridsearchcv-object-to-tune-a-model-in-sciimport xgboost as xgb\n",
    "from sklearn.model_selection import TimeSeriesSplit, GridSearchCV\n",
    "import numpy as np\n",
    "X = big_data\n",
    "y = y_1\n",
    "tscv = TimeSeriesSplit(n_splits=3)\n",
    "\n",
    "model = xgb.XGBRegressor()\n",
    "param_search = [{'C': [10**-2, 10**0, 3, 4, 5, 6 ,10**2]}]\n",
    "\n",
    "my_cv = TimeSeriesSplit(n_splits=3).split(X)\n",
    "gsearch = GridSearchCV(LogisticRegression(class_weight='balanced'), param_search, scoring = 'accuracy', cv=my_cv)\n",
    "gsearch.fit(X, y)"
   ]
  },
  {
   "cell_type": "code",
   "execution_count": 240,
   "metadata": {},
   "outputs": [
    {
     "name": "stdout",
     "output_type": "stream",
     "text": [
      "\n",
      "Test accuracy for best estimator is 82%\n"
     ]
    }
   ],
   "source": [
    "y_pred=gsearch.predict(test_data)\n",
    "acc = accuracy_score(y_test, y_pred, normalize=True) * float(100)\n",
    "print('\\nTest accuracy for best estimator is %d%%' % ( acc))"
   ]
  },
  {
   "cell_type": "markdown",
   "metadata": {},
   "source": [
    "#### Confusion matrix , Precision, Recall, F-Score"
   ]
  },
  {
   "cell_type": "code",
   "execution_count": 241,
   "metadata": {},
   "outputs": [
    {
     "name": "stdout",
     "output_type": "stream",
     "text": [
      "[[   12 19055]\n",
      " [   29 90104]]\n",
      "Precision :- 0.8254381223719528\n",
      "Recall    :- 0.999678253247978\n",
      "F1 Score  :- 0.8254381223719528\n"
     ]
    }
   ],
   "source": [
    "# print the confusion matrix\n",
    "from sklearn.metrics import confusion_matrix\n",
    "from sklearn import metrics\n",
    "gb=metrics.confusion_matrix(y_test,y_pred)\n",
    "print(gb)\n",
    "#plotting the confusion matrix\n",
    "#Plot of Confusion Metric\n",
    "#precision From above Confusion Metric\n",
    "#Recall From above Confusion Metric \n",
    "recall=(gb[1,1]+0.0)/sum(gb[1,:])\n",
    "pre=(gb[1,1]+0.0)/sum(gb[:,1])\n",
    "F1=(2*pre*recall)/(pre+recall)\n",
    "print(\"Precision :-\",pre)\n",
    "print(\"Recall    :-\",recall)\n",
    "print(\"F1 Score  :-\",pre)"
   ]
  },
  {
   "cell_type": "code",
   "execution_count": 242,
   "metadata": {
    "scrolled": true
   },
   "outputs": [
    {
     "data": {
      "image/png": "[encoded data removed]",
      "text/plain": [
       "<matplotlib.figure.Figure at 0x216bc9a47b8>"
      ]
     },
     "metadata": {},
     "output_type": "display_data"
    }
   ],
   "source": [
    "\n",
    "plot_confusion_matrix(cm           = np.array([[ 14466  ,4601],[7421 ,82712]]), \n",
    "                      normalize    = False,\n",
    "                      target_names = ['negative', 'positive'],\n",
    "                      title        = \"Confusion Matrix\")"
   ]
  },
  {
   "cell_type": "markdown",
   "metadata": {},
   "source": [
    "# Logistic Regression L2 without Class balancing"
   ]
  },
  {
   "cell_type": "code",
   "execution_count": 243,
   "metadata": {},
   "outputs": [
    {
     "data": {
      "text/plain": [
       "GridSearchCV(cv=<generator object TimeSeriesSplit.split at 0x00000216DD28E888>,\n",
       "       error_score='raise',\n",
       "       estimator=LogisticRegression(C=1.0, class_weight=None, dual=False, fit_intercept=True,\n",
       "          intercept_scaling=1, max_iter=100, multi_class='ovr', n_jobs=1,\n",
       "          penalty='l2', random_state=None, solver='liblinear', tol=0.0001,\n",
       "          verbose=0, warm_start=False),\n",
       "       fit_params=None, iid=True, n_jobs=1,\n",
       "       param_grid=[{'C': [0.01, 1, 3, 4, 5, 6, 100]}],\n",
       "       pre_dispatch='2*n_jobs', refit=True, return_train_score='warn',\n",
       "       scoring='accuracy', verbose=0)"
      ]
     },
     "execution_count": 243,
     "metadata": {},
     "output_type": "execute_result"
    }
   ],
   "source": [
    "#https://stackoverflow.com/questions/46732748/how-do-i-use-a-timeseriessplit-with-a-gridsearchcv-object-to-tune-a-model-in-sciimport xgboost as xgb\n",
    "from sklearn.model_selection import TimeSeriesSplit, GridSearchCV\n",
    "import numpy as np\n",
    "X = big_data\n",
    "y = y_1\n",
    "tscv = TimeSeriesSplit(n_splits=3)\n",
    "Cs = [10**-4, 10**-2, 10**0, 10**2, 10**4]\n",
    "model = xgb.XGBRegressor()\n",
    "param_search = [{'C': [10**-2, 10**0, 3, 4, 5, 6 ,10**2]}]\n",
    "\n",
    "my_cv = TimeSeriesSplit(n_splits=3).split(X)\n",
    "gsearch = GridSearchCV(LogisticRegression(), param_search, scoring = 'accuracy', cv=my_cv)\n",
    "gsearch.fit(X, y)"
   ]
  },
  {
   "cell_type": "code",
   "execution_count": 244,
   "metadata": {},
   "outputs": [
    {
     "name": "stdout",
     "output_type": "stream",
     "text": [
      "\n",
      "Test accuracy for best estimator is 82%\n"
     ]
    }
   ],
   "source": [
    "y_pred=gsearch.predict(test_data)\n",
    "acc = accuracy_score(y_test, y_pred, normalize=True) * float(100)\n",
    "print('\\nTest accuracy for best estimator is %d%%' % ( acc))"
   ]
  },
  {
   "cell_type": "code",
   "execution_count": 245,
   "metadata": {},
   "outputs": [
    {
     "name": "stdout",
     "output_type": "stream",
     "text": [
      "[[    3 19064]\n",
      " [   25 90108]]\n",
      "Precision :- 0.8253764701571832\n",
      "Recall    :- 0.9997226321103259\n",
      "F1 Score  :- 0.8253764701571832\n"
     ]
    }
   ],
   "source": [
    "gb=metrics.confusion_matrix(y_test,y_pred)\n",
    "print(gb)\n",
    "#plotting the confusion matrix\n",
    "#Plot of Confusion Metric\n",
    "#precision From above Confusion Metric\n",
    "#Recall From above Confusion Metric \n",
    "recall=(gb[1,1]+0.0)/sum(gb[1,:])\n",
    "pre=(gb[1,1]+0.0)/sum(gb[:,1])\n",
    "F1=(2*pre*recall)/(pre+recall)\n",
    "print(\"Precision :-\",pre)\n",
    "print(\"Recall    :-\",recall)\n",
    "print(\"F1 Score  :-\",pre)"
   ]
  },
  {
   "cell_type": "code",
   "execution_count": 246,
   "metadata": {},
   "outputs": [
    {
     "data": {
      "image/png": "[encoded data removed]",
      "text/plain": [
       "<matplotlib.figure.Figure at 0x216bc9a45f8>"
      ]
     },
     "metadata": {},
     "output_type": "display_data"
    }
   ],
   "source": [
    "plot_confusion_matrix(cm           = np.array([[ 13111   ,5956],[4140  ,85993]]), \n",
    "                      normalize    = False,\n",
    "                      target_names = ['negative', 'positive'],\n",
    "                      title        = \"Confusion Matrix\")"
   ]
  },
  {
   "cell_type": "markdown",
   "metadata": {},
   "source": [
    "__Misclassification error__"
   ]
  },
  {
   "cell_type": "code",
   "execution_count": 247,
   "metadata": {},
   "outputs": [
    {
     "name": "stderr",
     "output_type": "stream",
     "text": [
      "C:\\Users\\Yaakuza\\Anaconda3\\lib\\site-packages\\sklearn\\model_selection\\_search.py:762: DeprecationWarning: The grid_scores_ attribute was deprecated in version 0.18 in favor of the more elaborate cv_results_ attribute. The grid_scores_ attribute will not be available from 0.20\n",
      "  DeprecationWarning)\n"
     ]
    },
    {
     "data": {
      "image/png": "[encoded data removed]",
      "text/plain": [
       "<matplotlib.figure.Figure at 0x216bcaa26a0>"
      ]
     },
     "metadata": {},
     "output_type": "display_data"
    }
   ],
   "source": [
    "\n",
    "Cs = [10**-2, 10**0, 3, 4, 5, 6 ,10**2]\n",
    "scores = [x[1] for x in gsearch.grid_scores_]\n",
    "scores = np.array(scores).reshape(len(Cs))\n",
    "plt.figure(figsize=(20,6))\n",
    "plt.plot(Cs, scores, label='C: ' )\n",
    "\n",
    "for xy in zip(Cs, np.round(scores,3)):\n",
    "    plt.annotate('(%s, %s)' % xy, xy=xy, textcoords='data')\n",
    "\n",
    "plt.xlabel('Different C values')\n",
    "plt.ylabel('Scores')\n",
    "plt.show()\n",
    "   "
   ]
  },
  {
   "cell_type": "markdown",
   "metadata": {},
   "source": [
    "__Now using L1 Regulariser in Logistic Regrression with class balancing__"
   ]
  },
  {
   "cell_type": "code",
   "execution_count": 248,
   "metadata": {},
   "outputs": [
    {
     "data": {
      "text/plain": [
       "GridSearchCV(cv=<generator object TimeSeriesSplit.split at 0x00000216BC8CA0F8>,\n",
       "       error_score='raise',\n",
       "       estimator=LogisticRegression(C=1.0, class_weight='balanced', dual=False,\n",
       "          fit_intercept=True, intercept_scaling=1, max_iter=100,\n",
       "          multi_class='ovr', n_jobs=1, penalty='l1', random_state=None,\n",
       "          solver='liblinear', tol=0.0001, verbose=0, warm_start=False),\n",
       "       fit_params=None, iid=True, n_jobs=1,\n",
       "       param_grid=[{'C': [0.01, 1, 3, 4, 5, 6, 100]}],\n",
       "       pre_dispatch='2*n_jobs', refit=True, return_train_score='warn',\n",
       "       scoring='accuracy', verbose=0)"
      ]
     },
     "execution_count": 248,
     "metadata": {},
     "output_type": "execute_result"
    }
   ],
   "source": [
    "#https://stackoverflow.com/questions/46732748/how-do-i-use-a-timeseriessplit-with-a-gridsearchcv-object-to-tune-a-model-in-sciimport xgboost as xgb\n",
    "from sklearn.model_selection import TimeSeriesSplit, GridSearchCV\n",
    "import numpy as np\n",
    "X = big_data\n",
    "y = y_1\n",
    "tscv = TimeSeriesSplit(n_splits=3)\n",
    "\n",
    "model = xgb.XGBRegressor()\n",
    "param_search = [{'C': [10**-2, 10**0, 3, 4, 5, 6 ,10**2]}]\n",
    "\n",
    "my_cv = TimeSeriesSplit(n_splits=3).split(X)\n",
    "gsearch = GridSearchCV(LogisticRegression(class_weight='balanced',penalty='l1'), param_search, scoring = 'accuracy', cv=my_cv)\n",
    "gsearch.fit(X, y)"
   ]
  },
  {
   "cell_type": "code",
   "execution_count": 249,
   "metadata": {},
   "outputs": [
    {
     "name": "stdout",
     "output_type": "stream",
     "text": [
      "\n",
      "Test accuracy for best estimator is 82%\n"
     ]
    }
   ],
   "source": [
    "y_pred=gsearch.predict(test_data)\n",
    "acc = accuracy_score(y_test, y_pred, normalize=True) * float(100)\n",
    "print('\\nTest accuracy for best estimator is %d%%' % ( acc))\n"
   ]
  },
  {
   "cell_type": "code",
   "execution_count": 250,
   "metadata": {},
   "outputs": [
    {
     "name": "stdout",
     "output_type": "stream",
     "text": [
      "[[   13 19054]\n",
      " [   29 90104]]\n",
      "Precision :- 0.8254456842375273\n",
      "Recall    :- 0.999678253247978\n",
      "F1 Score  :- 0.8254456842375273\n"
     ]
    }
   ],
   "source": [
    "gb=metrics.confusion_matrix(y_test,y_pred)\n",
    "print(gb)\n",
    "recall=(gb[1,1]+0.0)/sum(gb[1,:])\n",
    "pre=(gb[1,1]+0.0)/sum(gb[:,1])\n",
    "F1=(2*pre*recall)/(pre+recall)\n",
    "print(\"Precision :-\",pre)\n",
    "print(\"Recall    :-\",recall)\n",
    "print(\"F1 Score  :-\",pre)"
   ]
  },
  {
   "cell_type": "code",
   "execution_count": 251,
   "metadata": {},
   "outputs": [
    {
     "data": {
      "image/png": "[encoded data removed]",
      "text/plain": [
       "<matplotlib.figure.Figure at 0x215879900f0>"
      ]
     },
     "metadata": {},
     "output_type": "display_data"
    }
   ],
   "source": [
    "plot_confusion_matrix(cm           = np.array([[ 16298  ,2769],[6968  ,83165]]), \n",
    "                      normalize    = False,\n",
    "                      target_names = ['negative', 'positive'],\n",
    "                      title        = \"Confusion Matrix\")"
   ]
  },
  {
   "cell_type": "markdown",
   "metadata": {},
   "source": [
    "__Now using L1 Regulariser in Logistic Regrression without class balancing__"
   ]
  },
  {
   "cell_type": "code",
   "execution_count": 252,
   "metadata": {},
   "outputs": [
    {
     "data": {
      "text/plain": [
       "GridSearchCV(cv=<generator object TimeSeriesSplit.split at 0x00000216BC8CA570>,\n",
       "       error_score='raise',\n",
       "       estimator=LogisticRegression(C=1.0, class_weight=None, dual=False, fit_intercept=True,\n",
       "          intercept_scaling=1, max_iter=100, multi_class='ovr', n_jobs=1,\n",
       "          penalty='l1', random_state=None, solver='liblinear', tol=0.0001,\n",
       "          verbose=0, warm_start=False),\n",
       "       fit_params=None, iid=True, n_jobs=1,\n",
       "       param_grid=[{'C': [0.01, 1, 3, 4, 5, 6, 100]}],\n",
       "       pre_dispatch='2*n_jobs', refit=True, return_train_score='warn',\n",
       "       scoring='accuracy', verbose=0)"
      ]
     },
     "execution_count": 252,
     "metadata": {},
     "output_type": "execute_result"
    }
   ],
   "source": [
    "#https://stackoverflow.com/questions/46732748/how-do-i-use-a-timeseriessplit-with-a-gridsearchcv-object-to-tune-a-model-in-sciimport xgboost as xgb\n",
    "from sklearn.model_selection import TimeSeriesSplit, GridSearchCV\n",
    "import numpy as np\n",
    "X = big_data\n",
    "y = y_1\n",
    "tscv = TimeSeriesSplit(n_splits=3)\n",
    "\n",
    "model = xgb.XGBRegressor()\n",
    "param_search = [{'C':[10**-2, 10**0, 3, 4, 5, 6 ,10**2]}]\n",
    "\n",
    "my_cv = TimeSeriesSplit(n_splits=3).split(X)\n",
    "gsearch = GridSearchCV(LogisticRegression(penalty='l1'), param_search, scoring = 'accuracy', cv=my_cv)\n",
    "gsearch.fit(X, y)"
   ]
  },
  {
   "cell_type": "code",
   "execution_count": 253,
   "metadata": {},
   "outputs": [
    {
     "name": "stdout",
     "output_type": "stream",
     "text": [
      "\n",
      "Test accuracy for best estimator is 82%\n"
     ]
    }
   ],
   "source": [
    "y_pred=gsearch.predict(test_data)\n",
    "acc = accuracy_score(y_test, y_pred, normalize=True) * float(100)\n",
    "print('\\nTest accuracy for best estimator is %d%%' % ( acc))\n"
   ]
  },
  {
   "cell_type": "code",
   "execution_count": 254,
   "metadata": {},
   "outputs": [
    {
     "name": "stdout",
     "output_type": "stream",
     "text": [
      "[[    6 19061]\n",
      " [   25 90108]]\n",
      "Precision :- 0.8253991517738553\n",
      "Recall    :- 0.9997226321103259\n",
      "F1 Score  :- 0.8253991517738553\n"
     ]
    }
   ],
   "source": [
    "gb=metrics.confusion_matrix(y_test,y_pred)\n",
    "print(gb)\n",
    "#plotting the confusion matrix\n",
    "#Plot of Confusion Metric\n",
    "#precision From above Confusion Metric\n",
    "#Recall From above Confusion Metric \n",
    "recall=(gb[1,1]+0.0)/sum(gb[1,:])\n",
    "pre=(gb[1,1]+0.0)/sum(gb[:,1])\n",
    "F1=(2*pre*recall)/(pre+recall)\n",
    "print(\"Precision :-\",pre)\n",
    "print(\"Recall    :-\",recall)\n",
    "print(\"F1 Score  :-\",pre)"
   ]
  },
  {
   "cell_type": "code",
   "execution_count": 255,
   "metadata": {},
   "outputs": [
    {
     "data": {
      "image/png": "[encoded data removed]",
      "text/plain": [
       "<matplotlib.figure.Figure at 0x216bca0d668>"
      ]
     },
     "metadata": {},
     "output_type": "display_data"
    }
   ],
   "source": [
    "plot_confusion_matrix(cm           = np.array([[ 12720   ,6347],[2214   ,87919]]), \n",
    "                      normalize    = False,\n",
    "                      target_names = ['negative', 'positive'],\n",
    "                      title        = \"Confusion Matrix\")"
   ]
  },
  {
   "cell_type": "markdown",
   "metadata": {},
   "source": [
    "__ Finding Sparsity of W vector for increasing values of C (Decreasing values of Lambda)__"
   ]
  },
  {
   "cell_type": "code",
   "execution_count": 256,
   "metadata": {},
   "outputs": [
    {
     "name": "stdout",
     "output_type": "stream",
     "text": [
      "C=0.01\n",
      "Sparsity with L1 penalty: 6.00%\n",
      "---------------------------------------------------------------\n",
      "C=0.05\n",
      "Sparsity with L1 penalty: 2.00%\n",
      "---------------------------------------------------------------\n",
      "C=0.08\n",
      "Sparsity with L1 penalty: 0.00%\n",
      "---------------------------------------------------------------\n",
      "C=1.20\n",
      "Sparsity with L1 penalty: 0.00%\n",
      "---------------------------------------------------------------\n",
      "C=2.00\n",
      "Sparsity with L1 penalty: 0.00%\n",
      "---------------------------------------------------------------\n",
      "C=10.00\n",
      "Sparsity with L1 penalty: 0.00%\n",
      "---------------------------------------------------------------\n",
      "C=20.00\n",
      "Sparsity with L1 penalty: 0.00%\n",
      "---------------------------------------------------------------\n",
      "C=30.00\n",
      "Sparsity with L1 penalty: 0.00%\n",
      "---------------------------------------------------------------\n",
      "C=40.00\n",
      "Sparsity with L1 penalty: 0.00%\n",
      "---------------------------------------------------------------\n",
      "C=70.00\n",
      "Sparsity with L1 penalty: 0.00%\n",
      "---------------------------------------------------------------\n",
      "C=150.00\n",
      "Sparsity with L1 penalty: 0.00%\n",
      "---------------------------------------------------------------\n"
     ]
    }
   ],
   "source": [
    "#http://scikit-learn.org/stable/auto_examples/linear_model/plot_logistic_l1_l2_sparsity.html\n",
    "l1_list=[0.01,0.05,0.08,1.2,2.0,10,20,30,40,70,150]\n",
    "for item in l1_list:\n",
    "    clf = LogisticRegression(random_state=0,penalty='l1',C=item).fit(big_data, y_1)\n",
    "    #model = GridSearchCV(LogisticRegression(penalty='l1',C=item), tuned_parameters, scoring = 'accuracy', cv=5)\n",
    "    #model.fit(big_data, y_1)\n",
    "    coef = clf.coef_.ravel()\n",
    "    sparsity_l1_LR = np.mean(coef == 0) * 100\n",
    "    print(\"C=%.2f\" % item)\n",
    "    print(\"Sparsity with L1 penalty: %.2f%%\" % sparsity_l1_LR)\n",
    "    print('---------------------------------------------------------------')"
   ]
  },
  {
   "cell_type": "markdown",
   "metadata": {},
   "source": [
    "__As we can see with different values of C i.e inverse of Lambda the sparsity of w* vector is changing.__\n",
    "1. as C increases (lambda decreases) the sparsity decreases. i.e as lambda increases the sparsity also increases\n",
    "2. this proves the fact that in L1 regurarization when lambda increases the sparsity also increases "
   ]
  },
  {
   "cell_type": "markdown",
   "metadata": {},
   "source": [
    "## Perturbation Test"
   ]
  },
  {
   "cell_type": "code",
   "execution_count": 260,
   "metadata": {},
   "outputs": [
    {
     "name": "stdout",
     "output_type": "stream",
     "text": [
      "Accuracy on test set: 82.519%\n",
      "Non Zero weights: 50\n"
     ]
    }
   ],
   "source": [
    "from sklearn.linear_model import LogisticRegression\n",
    "\n",
    "clf = LogisticRegression(C= 8, penalty= 'l2')\n",
    "clf.fit(big_data,y_1)\n",
    "y_pred = clf.predict(test_data)\n",
    "print(\"Accuracy on test set: %0.3f%%\"%(accuracy_score(y_test, y_pred)*100))\n",
    "print(\"Non Zero weights:\",np.count_nonzero(clf.coef_))"
   ]
  },
  {
   "cell_type": "code",
   "execution_count": 261,
   "metadata": {
    "collapsed": true
   },
   "outputs": [],
   "source": [
    "from scipy.sparse import find\n",
    "#Weights before adding random noise\n",
    "w1 = find(clf.coef_[0])[2]\n"
   ]
  },
  {
   "cell_type": "code",
   "execution_count": 263,
   "metadata": {},
   "outputs": [],
   "source": [
    "from scipy.sparse import find\n",
    "\n",
    "#epsilon = np.random.normal(loc=0.0, scale=0.00000001)\n",
    "epsilon = np.random.uniform(low=-0.0001, high=0.0001, size=(find(big_data)[0].size,))\n",
    "new_data = big_data.copy()\n",
    "#Random noise\n",
    "#Getting the postions(row and column) and value of non-zero datapoints \n",
    "a,b,c = find(new_data)\n",
    "\n",
    "#Introducing random noise to non-zero datapoints\n",
    "new_data[a,b] = epsilon + new_data[a,b] "
   ]
  },
  {
   "cell_type": "code",
   "execution_count": 264,
   "metadata": {},
   "outputs": [
    {
     "name": "stdout",
     "output_type": "stream",
     "text": [
      "Accuracy on test set: 82.519%\n",
      "Non Zero weights: 50\n"
     ]
    }
   ],
   "source": [
    "#Training on train data having random noise\n",
    "from sklearn.linear_model import LogisticRegression\n",
    "\n",
    "clf = LogisticRegression(C= 9, penalty= 'l2')\n",
    "clf.fit(new_data,y_1)\n",
    "y_pred = clf.predict(test_data)\n",
    "print(\"Accuracy on test set: %0.3f%%\"%(accuracy_score(y_test, y_pred)*100))\n",
    "print(\"Non Zero weights:\",np.count_nonzero(clf.coef_))"
   ]
  },
  {
   "cell_type": "code",
   "execution_count": 265,
   "metadata": {},
   "outputs": [
    {
     "data": {
      "text/plain": [
       "(2301100,)"
      ]
     },
     "execution_count": 265,
     "metadata": {},
     "output_type": "execute_result"
    }
   ],
   "source": [
    "w2.shape"
   ]
  },
  {
   "cell_type": "code",
   "execution_count": 266,
   "metadata": {},
   "outputs": [
    {
     "data": {
      "text/plain": [
       "(50,)"
      ]
     },
     "execution_count": 266,
     "metadata": {},
     "output_type": "execute_result"
    }
   ],
   "source": [
    "w1.shape"
   ]
  },
  {
   "cell_type": "code",
   "execution_count": 267,
   "metadata": {
    "collapsed": true
   },
   "outputs": [],
   "source": [
    "#Weights after adding random noise\n",
    "w2 = find(clf.coef_[0])[2]\n"
   ]
  },
  {
   "cell_type": "code",
   "execution_count": 268,
   "metadata": {
    "collapsed": true
   },
   "outputs": [],
   "source": [
    "diff = (abs(w1 - w2)/w1) * 100"
   ]
  },
  {
   "cell_type": "code",
   "execution_count": 269,
   "metadata": {},
   "outputs": [
    {
     "name": "stdout",
     "output_type": "stream",
     "text": [
      "0\n"
     ]
    }
   ],
   "source": [
    "print(diff[np.where(diff > 30)].size)"
   ]
  },
  {
   "cell_type": "markdown",
   "metadata": {},
   "source": [
    "__\"\"We have 0 feature whose beight changed more then 30 percent\"\"__"
   ]
  },
  {
   "cell_type": "code",
   "execution_count": 270,
   "metadata": {},
   "outputs": [
    {
     "name": "stdout",
     "output_type": "stream",
     "text": [
      "Euclidean distance between two vectors is:- 0.006495788187743015\n",
      "Cosine similarity between two vectors is:- 0.9999998264554264\n"
     ]
    }
   ],
   "source": [
    "from scipy.spatial import distance\n",
    "from scipy import spatial\n",
    "dst = distance.euclidean(w1, w2)\n",
    "result = 1 - spatial.distance.cosine(w1,w2)\n",
    "print(\"Euclidean distance between two vectors is:-\",dst)\n",
    "print(\"Cosine similarity between two vectors is:-\",result)"
   ]
  },
  {
   "cell_type": "code",
   "execution_count": null,
   "metadata": {
    "collapsed": true
   },
   "outputs": [],
   "source": []
  },
  {
   "cell_type": "markdown",
   "metadata": {},
   "source": [
    "### Conclusion / Summary"
   ]
  },
  {
   "cell_type": "raw",
   "metadata": {},
   "source": [
    "(i) Sampled 364K reviews from our Dataset.\n",
    "(ii) Then dividing our reviews into train and test.\n",
    "(iii) Converting the text of reviews into vectors using both BOW .\n",
    "(iv) Applying Logistic Regression with L2 regularizer with Grid search CV to find the best C(1/lambda).\n",
    "(v) Then we apply Logistic Regression using L1 Regulariser, we also check accuracy with different values of \n",
    "(vi) Also finding Confusion Matrix , Precision, Recall, F-Score.\n",
    "(vii) Printing the TOP Words with highest probablities in our Positive and Negative Reviews.\n",
    "\n",
    "1. Model :- Logistic Regression\n",
    "   HyperParameter:- C (i.e  1/lambda)\n",
    "\n",
    "╔═════════════════════╦═════════════╦═════╦═══════════════╦═══════════╦════════╦═════════╗\n",
    "║                     ║ Regularizer ║  C  ║ Test Accuracy ║ Precision ║ Recall ║ F-Score ║\n",
    "╠═════════════════════╬═════════════╬═════╬═══════════════╬═══════════╬════════╬═════════╣\n",
    "║ BOW with CB         ║ L2          ║ 1.0 ║ 88%           ║ 0.947     ║ 0.917  ║ 0.947   ║\n",
    "╠═════════════════════╬═════════════╬═════╬═══════════════╬═══════════╬════════╬═════════╣\n",
    "║ BOW without CB      ║ L2          ║ 1.0 ║ 90%           ║ 0.935     ║ 0.954  ║ 0.935   ║\n",
    "╠═════════════════════╬═════════════╬═════╬═══════════════╬═══════════╬════════╬═════════╣\n",
    "║ BOW with CB         ║ L1          ║ 1.0 ║ 91%           ║ 0.967     ║ 0.922  ║ 0.967   ║\n",
    "╠═════════════════════╬═════════════╬═════╬═══════════════╬═══════════╬════════╬═════════╣\n",
    "║ BOW without CB      ║ L1          ║ 1.0 ║ 92%           ║ 0.932     ║ 0.975  ║ 0.932   ║\n",
    "╠═════════════════════╬═════════════╬═════╬═══════════════╬═══════════╬════════╬═════════╣\n",
    "║                     ║             ║     ║               ║           ║        ║         ║\n",
    "╠═════════════════════╬═════════════╬═════╬═══════════════╬═══════════╬════════╬═════════╣\n",
    "║ Tf-Idf with CB      ║ L2          ║ 1.0 ║ 90%           ║ 0.905     ║ 0.992  ║ 0.905   ║\n",
    "╠═════════════════════╬═════════════╬═════╬═══════════════╬═══════════╬════════╬═════════╣\n",
    "║ Tf-Idf without CB   ║ L2          ║ 1.0 ║ 90%           ║ 0.900     ║ 0.993  ║ 0.900   ║\n",
    "╠═════════════════════╬═════════════╬═════╬═══════════════╬═══════════╬════════╬═════════╣\n",
    "║ Tf-Idf with CB      ║ L1          ║ 1.0 ║ 93%           ║ 0.952     ║ 0.974  ║ 0.952   ║\n",
    "╠═════════════════════╬═════════════╬═════╬═══════════════╬═══════════╬════════╬═════════╣\n",
    "║ Tf-Idf without CB   ║ L1          ║ 1.0 ║ 93%           ║ 0.936     ║ 0.986  ║ 0.936   ║\n",
    "╠═════════════════════╬═════════════╬═════╬═══════════════╬═══════════╬════════╬═════════╣\n",
    "║                     ║             ║     ║               ║           ║        ║         ║\n",
    "╠═════════════════════╬═════════════╬═════╬═══════════════╬═══════════╬════════╬═════════╣\n",
    "║ Word2Vec with CB    ║ L2          ║ 1.0 ║ 82%           ║ 0.825     ║ 0.999  ║ 0.825   ║\n",
    "╠═════════════════════╬═════════════╬═════╬═══════════════╬═══════════╬════════╬═════════╣\n",
    "║ Word2Vec without CB ║ l2          ║ 1.0 ║ 82%           ║ 0.825     ║ 0.999  ║ 0.825   ║\n",
    "╠═════════════════════╬═════════════╬═════╬═══════════════╬═══════════╬════════╬═════════╣\n",
    "║ Word2Vec with CB    ║ l1          ║ 1.0 ║ 82%           ║ 0.825     ║ 0.999  ║ 0.825   ║\n",
    "╠═════════════════════╬═════════════╬═════╬═══════════════╬═══════════╬════════╬═════════╣\n",
    "║ Word2Vec without CB ║ l1          ║ 1.0 ║ 82%           ║ 0.825     ║ 0.999  ║ 0.825   ║\n",
    "╚═════════════════════╩═════════════╩═════╩═══════════════╩═══════════╩════════╩═════════╝\n",
    "\n",
    "\n",
    "\n",
    "2. L1 regularizer with different values of C(1/lambda) In BOW.\n",
    "    \n",
    "    C=0.01\n",
    "    Sparsity with L1 penalty: 83.42%\n",
    "-----------------------------------------------------------------\n",
    "    C=0.05\n",
    "    Sparsity with L1 penalty: 68.73%\n",
    "---------------------------------------------------------------\n",
    "    C=0.08\n",
    "    Sparsity with L1 penalty: 65.77%\n",
    "---------------------------------------------------------------\n",
    "    C=1.20\n",
    "    Sparsity with L1 penalty: 4.86%\n",
    "---------------------------------------------------------------\n",
    "    C=2.00\n",
    "    Sparsity with L1 penalty: 3.26%\n",
    "---------------------------------------------------------------\n",
    "\n",
    "    Note := Same goes with other vectorizers also , the sparsity keeps increasing with increase in lambda.\n",
    "    \n",
    "3. TOP Words with the highest weights \n",
    "    \n",
    "   (i) BOW:=      NEGATIVE                           POSITIVE\n",
    "   \n",
    "                -0.9690\tnot            \t\t\t\t1.1551\tgreat          \n",
    "                -0.4221\tworst          \t\t\t\t0.9005\tbest           \n",
    "                -0.3282\tterrible       \t\t\t\t0.7989\tdelicious      \n",
    "                -0.3080\tawful          \t\t\t\t0.7150\tgood           \n",
    "                -0.3035\thorrible       \t\t\t\t0.6766\tperfect        \n",
    "\t            -0.2932\tdisappointed   \t\t\t\t0.6101\tlove  \n",
    "   \n",
    "   (ii) Tf-Idf:=      NEGATIVE                           POSITIVE\n",
    "   \n",
    "               -0.0325\tdrive          \t\t\t\t0.0518\tyowie          \n",
    "               -0.0308\tgreenpowder    \t\t\t\t0.0353\tlindas         \n",
    "               -0.0275\tsnackalicious  \t\t\t\t0.0339\tgreese         \n",
    "               -0.0271\tstylish        \t\t\t\t0.0308\tunfavorable    \n",
    "               -0.0245\t017            \t\t\t\t0.0299\tmenial         \n",
    "               -0.0243\tfancifully     \t\t\t\t0.0292\tmcqueen        \n",
    "               -0.0243\tktoo           \t\t\t\t0.0281\tflutterby2554  \n",
    "               -0.0239\tleamonade      \t\t\t\t0.0265\tfleisch        \n",
    "               -0.0238\tfamiliar       \t\t\t\t0.0262\tflipped \n",
    "   \n",
    "4. (i) BOW:= We have 19475 feature whose weight changed more then 30 percent\n",
    "   (ii) Tf-Idf:= We have 287753 feature whose weight changed more then 30 percent\n",
    "\n",
    "__Final Conclusion:-__\n",
    "(i) Logistic Regression Worked Fairly well Compared to all other models we have worked on before.\n",
    "(ii)Best Model is Tf-Idf with L1 penalty with or without class balancing with the test accuracy of 93 Percent. \n",
    "(iii)As we are increasing the value of lambda in using L1 regulariser the Sparsity also increases.\n",
    "(iv)The features are multicollinear becoz so many of them have a weight change of more then 30 percent after perturbation test."
   ]
  }
 ],
 "metadata": {
  "kernelspec": {
   "display_name": "Python 3",
   "language": "python",
   "name": "python3"
  },
  "language_info": {
   "codemirror_mode": {
    "name": "ipython",
    "version": 3
   },
   "file_extension": ".py",
   "mimetype": "text/x-python",
   "name": "python",
   "nbconvert_exporter": "python",
   "pygments_lexer": "ipython3",
   "version": "3.6.3"
  }
 },
 "nbformat": 4,
 "nbformat_minor": 2
}
